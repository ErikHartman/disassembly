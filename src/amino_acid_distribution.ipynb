{
 "cells": [
  {
   "cell_type": "code",
   "execution_count": 14,
   "metadata": {},
   "outputs": [],
   "source": [
    "import matplotlib.pyplot as plt\n",
    "import pandas as pd"
   ]
  },
  {
   "cell_type": "code",
   "execution_count": 15,
   "metadata": {},
   "outputs": [
    {
     "data": {
      "text/html": [
       "<div>\n",
       "<style scoped>\n",
       "    .dataframe tbody tr th:only-of-type {\n",
       "        vertical-align: middle;\n",
       "    }\n",
       "\n",
       "    .dataframe tbody tr th {\n",
       "        vertical-align: top;\n",
       "    }\n",
       "\n",
       "    .dataframe thead th {\n",
       "        text-align: right;\n",
       "    }\n",
       "</style>\n",
       "<table border=\"1\" class=\"dataframe\">\n",
       "  <thead>\n",
       "    <tr style=\"text-align: right;\">\n",
       "      <th></th>\n",
       "      <th>Protein</th>\n",
       "      <th>Peptide</th>\n",
       "      <th>Start</th>\n",
       "      <th>End</th>\n",
       "      <th>Mods</th>\n",
       "      <th>Sample 17 Day 1</th>\n",
       "      <th>Sample 18 Day 1</th>\n",
       "      <th>Sample 19 Day 1</th>\n",
       "      <th>Sample 20 Day 1</th>\n",
       "      <th>Sample 21 Day 1</th>\n",
       "      <th>...</th>\n",
       "      <th>Sample 57 Day 3</th>\n",
       "      <th>Sample 6 Day 1</th>\n",
       "      <th>Sample 7 Day 1</th>\n",
       "      <th>Sample 8 Day 1</th>\n",
       "      <th>Sample 9 Day 1</th>\n",
       "      <th>Sample 6 Day 2</th>\n",
       "      <th>Sample 7 Day 2</th>\n",
       "      <th>Sample 8 Day 2</th>\n",
       "      <th>Sample 9 Day 2</th>\n",
       "      <th>id</th>\n",
       "    </tr>\n",
       "  </thead>\n",
       "  <tbody>\n",
       "    <tr>\n",
       "      <th>557</th>\n",
       "      <td>PR39</td>\n",
       "      <td>DRLNEQSSEANLY</td>\n",
       "      <td>43</td>\n",
       "      <td>55</td>\n",
       "      <td>|</td>\n",
       "      <td>13.605245</td>\n",
       "      <td>14.669737</td>\n",
       "      <td>14.962648</td>\n",
       "      <td>12.398288</td>\n",
       "      <td>14.212164</td>\n",
       "      <td>...</td>\n",
       "      <td>14.968922</td>\n",
       "      <td>10.896371</td>\n",
       "      <td>11.055976</td>\n",
       "      <td>13.716064</td>\n",
       "      <td>11.392068</td>\n",
       "      <td>13.473538</td>\n",
       "      <td>13.377629</td>\n",
       "      <td>13.232903</td>\n",
       "      <td>NaN</td>\n",
       "      <td>557</td>\n",
       "    </tr>\n",
       "    <tr>\n",
       "      <th>558</th>\n",
       "      <td>PR39</td>\n",
       "      <td>AVDRLNEQSSEANLY</td>\n",
       "      <td>41</td>\n",
       "      <td>55</td>\n",
       "      <td>|</td>\n",
       "      <td>12.332647</td>\n",
       "      <td>11.958651</td>\n",
       "      <td>13.801851</td>\n",
       "      <td>10.587857</td>\n",
       "      <td>12.707897</td>\n",
       "      <td>...</td>\n",
       "      <td>11.773213</td>\n",
       "      <td>9.312961</td>\n",
       "      <td>9.752348</td>\n",
       "      <td>11.929595</td>\n",
       "      <td>10.642621</td>\n",
       "      <td>10.461541</td>\n",
       "      <td>11.345801</td>\n",
       "      <td>11.422428</td>\n",
       "      <td>NaN</td>\n",
       "      <td>558</td>\n",
       "    </tr>\n",
       "    <tr>\n",
       "      <th>559</th>\n",
       "      <td>PR39</td>\n",
       "      <td>ELDQPPKADEDPGTPKPV</td>\n",
       "      <td>59</td>\n",
       "      <td>76</td>\n",
       "      <td>|</td>\n",
       "      <td>18.569529</td>\n",
       "      <td>17.539295</td>\n",
       "      <td>17.972366</td>\n",
       "      <td>18.248342</td>\n",
       "      <td>17.877842</td>\n",
       "      <td>...</td>\n",
       "      <td>18.406572</td>\n",
       "      <td>17.939434</td>\n",
       "      <td>17.692968</td>\n",
       "      <td>16.302622</td>\n",
       "      <td>15.984872</td>\n",
       "      <td>16.230713</td>\n",
       "      <td>16.731639</td>\n",
       "      <td>16.329504</td>\n",
       "      <td>NaN</td>\n",
       "      <td>559</td>\n",
       "    </tr>\n",
       "  </tbody>\n",
       "</table>\n",
       "<p>3 rows × 119 columns</p>\n",
       "</div>"
      ],
      "text/plain": [
       "    Protein             Peptide  Start  End Mods  Sample 17 Day 1  \\\n",
       "557    PR39       DRLNEQSSEANLY     43   55    |        13.605245   \n",
       "558    PR39     AVDRLNEQSSEANLY     41   55    |        12.332647   \n",
       "559    PR39  ELDQPPKADEDPGTPKPV     59   76    |        18.569529   \n",
       "\n",
       "     Sample 18 Day 1  Sample 19 Day 1  Sample 20 Day 1  Sample 21 Day 1  ...  \\\n",
       "557        14.669737        14.962648        12.398288        14.212164  ...   \n",
       "558        11.958651        13.801851        10.587857        12.707897  ...   \n",
       "559        17.539295        17.972366        18.248342        17.877842  ...   \n",
       "\n",
       "     Sample 57 Day 3  Sample 6 Day 1  Sample 7 Day 1  Sample 8 Day 1  \\\n",
       "557        14.968922       10.896371       11.055976       13.716064   \n",
       "558        11.773213        9.312961        9.752348       11.929595   \n",
       "559        18.406572       17.939434       17.692968       16.302622   \n",
       "\n",
       "     Sample 9 Day 1  Sample 6 Day 2  Sample 7 Day 2  Sample 8 Day 2  \\\n",
       "557       11.392068       13.473538       13.377629       13.232903   \n",
       "558       10.642621       10.461541       11.345801       11.422428   \n",
       "559       15.984872       16.230713       16.731639       16.329504   \n",
       "\n",
       "     Sample 9 Day 2   id  \n",
       "557             NaN  557  \n",
       "558             NaN  558  \n",
       "559             NaN  559  \n",
       "\n",
       "[3 rows x 119 columns]"
      ]
     },
     "execution_count": 15,
     "metadata": {},
     "output_type": "execute_result"
    }
   ],
   "source": [
    "real_data = pd.read_csv(\"https://raw.githubusercontent.com/ErikHartman/pepnets/main/data/data.csv\")\n",
    "real_data = real_data[real_data[\"Protein\"] == \"PR39\"]\n",
    "real_data.head(3)"
   ]
  },
  {
   "cell_type": "code",
   "execution_count": 16,
   "metadata": {},
   "outputs": [
    {
     "data": {
      "text/html": [
       "<div>\n",
       "<style scoped>\n",
       "    .dataframe tbody tr th:only-of-type {\n",
       "        vertical-align: middle;\n",
       "    }\n",
       "\n",
       "    .dataframe tbody tr th {\n",
       "        vertical-align: top;\n",
       "    }\n",
       "\n",
       "    .dataframe thead th {\n",
       "        text-align: right;\n",
       "    }\n",
       "</style>\n",
       "<table border=\"1\" class=\"dataframe\">\n",
       "  <thead>\n",
       "    <tr style=\"text-align: right;\">\n",
       "      <th></th>\n",
       "      <th>Peptide</th>\n",
       "      <th>variable</th>\n",
       "      <th>value</th>\n",
       "    </tr>\n",
       "  </thead>\n",
       "  <tbody>\n",
       "    <tr>\n",
       "      <th>0</th>\n",
       "      <td>DRLNEQSSEANLY</td>\n",
       "      <td>Sample 17 Day 1</td>\n",
       "      <td>13.605245</td>\n",
       "    </tr>\n",
       "    <tr>\n",
       "      <th>1</th>\n",
       "      <td>AVDRLNEQSSEANLY</td>\n",
       "      <td>Sample 17 Day 1</td>\n",
       "      <td>12.332647</td>\n",
       "    </tr>\n",
       "    <tr>\n",
       "      <th>2</th>\n",
       "      <td>ELDQPPKADEDPGTPKPV</td>\n",
       "      <td>Sample 17 Day 1</td>\n",
       "      <td>18.569529</td>\n",
       "    </tr>\n",
       "  </tbody>\n",
       "</table>\n",
       "</div>"
      ],
      "text/plain": [
       "              Peptide         variable      value\n",
       "0       DRLNEQSSEANLY  Sample 17 Day 1  13.605245\n",
       "1     AVDRLNEQSSEANLY  Sample 17 Day 1  12.332647\n",
       "2  ELDQPPKADEDPGTPKPV  Sample 17 Day 1  18.569529"
      ]
     },
     "execution_count": 16,
     "metadata": {},
     "output_type": "execute_result"
    }
   ],
   "source": [
    "df = pd.melt(real_data, id_vars=['Peptide'], value_vars=[c for c in real_data.columns if \"Sample\" in c])\n",
    "df = df.dropna(subset=[\"value\"])\n",
    "df.head(3)"
   ]
  },
  {
   "cell_type": "code",
   "execution_count": 17,
   "metadata": {},
   "outputs": [
    {
     "name": "stdout",
     "output_type": "stream",
     "text": [
      "22977 / 4799"
     ]
    },
    {
     "data": {
      "text/plain": [
       "{'V': 17363.080892856095,\n",
       " 'I': 10167.326631400285,\n",
       " 'L': 48119.9738909735,\n",
       " 'E': 55488.248883218635,\n",
       " 'Q': 27947.77520860869,\n",
       " 'D': 66557.12951514147,\n",
       " 'N': 18940.241108896964,\n",
       " 'H': 188.03947808903624,\n",
       " 'W': 0,\n",
       " 'F': 24894.21786649709,\n",
       " 'Y': 6620.159557516371,\n",
       " 'R': 44393.663453565816,\n",
       " 'K': 35408.84776744999,\n",
       " 'S': 23638.10791156641,\n",
       " 'T': 19640.8924165875,\n",
       " 'M': 0,\n",
       " 'A': 30951.66767911912,\n",
       " 'G': 30341.765971718334,\n",
       " 'P': 192363.5421148332,\n",
       " 'C': 16.422173077509395}"
      ]
     },
     "execution_count": 17,
     "metadata": {},
     "output_type": "execute_result"
    }
   ],
   "source": [
    "from disassembly.simulate_proteolysis import amino_acids\n",
    "frequencies = {aa:0 for aa in amino_acids.values()}\n",
    "\n",
    "for i, row in df.iterrows():\n",
    "    print(f\"\\r{i} / {len(df.index)}\", end=\"\")\n",
    "    peptide = row[\"Peptide\"]\n",
    "    value = row[\"value\"]\n",
    "    for amino_acid in peptide:\n",
    "        frequencies[amino_acid] += value\n",
    "frequencies"
   ]
  },
  {
   "cell_type": "code",
   "execution_count": 18,
   "metadata": {},
   "outputs": [
    {
     "data": {
      "text/plain": [
       "<BarContainer object of 20 artists>"
      ]
     },
     "execution_count": 18,
     "metadata": {},
     "output_type": "execute_result"
    },
    {
     "data": {
      "image/png": "[encoded data removed]",
      "text/plain": [
       "<Figure size 640x480 with 1 Axes>"
      ]
     },
     "metadata": {},
     "output_type": "display_data"
    }
   ],
   "source": [
    "frequencies_sum = sum(frequencies.values())\n",
    "dist = {aa:f/frequencies_sum for aa,f in frequencies.items()}\n",
    "dist = dict(sorted(dist.items()))\n",
    "\n",
    "plt.bar(x=dist.keys(), height=dist.values())"
   ]
  },
  {
   "cell_type": "code",
   "execution_count": 19,
   "metadata": {},
   "outputs": [],
   "source": [
    "pd.DataFrame(dist, index=[\"relative_frequency\"]).T.to_csv(\"../amino_acid_distribution.csv\")"
   ]
  },
  {
   "cell_type": "markdown",
   "metadata": {},
   "source": [
    "test"
   ]
  }
 ],
 "metadata": {
  "kernelspec": {
   "display_name": ".venv",
   "language": "python",
   "name": "python3"
  },
  "language_info": {
   "codemirror_mode": {
    "name": "ipython",
    "version": 3
   },
   "file_extension": ".py",
   "mimetype": "text/x-python",
   "name": "python",
   "nbconvert_exporter": "python",
   "pygments_lexer": "ipython3",
   "version": "3.9.6"
  }
 },
 "nbformat": 4,
 "nbformat_minor": 2
}
