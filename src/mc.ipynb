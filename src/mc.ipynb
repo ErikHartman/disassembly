{
 "cells": [
  {
   "cell_type": "markdown",
   "metadata": {},
   "source": [
    "1. We have a peptidome $p_i \\in P$\n",
    "2. We can sample from this peptidome $\\hat{p_i} \\sim P$\n",
    "3. We want to create a graph $G$ that generates* $\\hat{p_i}$. To do this:\n",
    "    - draw $\\hat{p_i} \\sim P$\n",
    "    - Generate peptidome from $G$. Calculate KL-divergence $\\delta$ between generated peptidome and $\\hat{p_i}$\n",
    "    - for pair $(u_i, u_j)$ where $u_i \\in u_j$ in $\\hat{p_i}$. Add $lr \\times \\delta \\times u_i$ to $w_{i,j}$ where $w_{i,j}$ is the weight of the edge between the nodes.\n",
    "    - Penalize reliance on a single node by $\\epsilon \\times \\sum_i{w_{i,j}}$ where $\\epsilon$ is some penalty factor.\n",
    "    \n",
    "\n",
    "\n",
    "*To generate a peptidome from $G$. Let $N_T$ be the number of peptides in $\\hat{p_i}$. Start from the largest peptide. The peptide is cleaved with probability $w_{i,j}$. Iterate until number of peptides $\\geq N_T$."
   ]
  },
  {
   "cell_type": "code",
   "execution_count": 1,
   "metadata": {},
   "outputs": [],
   "source": [
    "def normalize_dict(d):\n",
    "    s = sum(d.values())\n",
    "    return {k:v/s for k,v in d.items()}"
   ]
  },
  {
   "cell_type": "code",
   "execution_count": 2,
   "metadata": {},
   "outputs": [
    {
     "data": {
      "text/plain": [
       "{'ABCD': 31,\n",
       " 'ABC': 6,\n",
       " 'BCD': 1,\n",
       " 'BC': 1,\n",
       " 'CD': 0,\n",
       " 'C': 0,\n",
       " 'D': 0,\n",
       " 'AB': 11,\n",
       " 'A': 0}"
      ]
     },
     "execution_count": 2,
     "metadata": {},
     "output_type": "execute_result"
    }
   ],
   "source": [
    "import numpy as np\n",
    "\n",
    "# Generate synthetic sample\n",
    "P = {\"ABCD\": 100, \"ABC\": 20, \"BCD\": 5, \"BC\":5, \"CD\":1, \"C\":0, \"D\":0, \"AB\": 50, \"A\": 5}\n",
    "keys = list(P.keys())\n",
    "values = list(P.values())\n",
    "probs = [v / sum(values) for v in values]\n",
    "\n",
    "n_sample = 50\n",
    "\n",
    "def sample(keys, probs, n_sample):\n",
    "    p_hat = np.random.choice(keys, n_sample, replace=True, p=probs)\n",
    "\n",
    "    p_hat_dict = {k:0 for k in keys}\n",
    "    for key in p_hat:\n",
    "        p_hat_dict[key] += 1\n",
    "\n",
    "    p_hat = p_hat_dict\n",
    "    return p_hat\n",
    "p_hat = sample(keys, probs, n_sample)\n",
    "p_hat"
   ]
  },
  {
   "cell_type": "code",
   "execution_count": 3,
   "metadata": {},
   "outputs": [
    {
     "data": {
      "text/plain": [
       "OutEdgeDataView([('ABCD', 'ABC', {'weight': 1}), ('ABCD', 'BCD', {'weight': 1}), ('ABCD', 'BC', {'weight': 1}), ('ABCD', 'CD', {'weight': 1}), ('ABCD', 'C', {'weight': 1}), ('ABCD', 'D', {'weight': 1}), ('ABCD', 'AB', {'weight': 1}), ('ABCD', 'A', {'weight': 1}), ('ABC', 'BC', {'weight': 1}), ('ABC', 'C', {'weight': 1}), ('ABC', 'AB', {'weight': 1}), ('ABC', 'A', {'weight': 1}), ('BCD', 'BC', {'weight': 1}), ('BCD', 'CD', {'weight': 1}), ('BCD', 'C', {'weight': 1}), ('BCD', 'D', {'weight': 1}), ('BC', 'C', {'weight': 1}), ('CD', 'C', {'weight': 1}), ('CD', 'D', {'weight': 1}), ('AB', 'A', {'weight': 1})])"
      ]
     },
     "execution_count": 3,
     "metadata": {},
     "output_type": "execute_result"
    }
   ],
   "source": [
    "import networkx as nx\n",
    "N_T = sum(values)\n",
    "G = nx.DiGraph()\n",
    "G.add_nodes_from(keys)\n",
    "for key1 in keys:\n",
    "    for key2 in keys:\n",
    "        if key1 in key2 and key1 != key2: #key 1 = ABC, key 2 = ABCD\n",
    "            G.add_edge(key2, key1, weight=1)\n",
    "G.edges(data=True)"
   ]
  },
  {
   "cell_type": "code",
   "execution_count": 4,
   "metadata": {},
   "outputs": [
    {
     "data": {
      "text/plain": [
       "{'ABCD': 3,\n",
       " 'ABC': 6,\n",
       " 'BCD': 6,\n",
       " 'BC': 26,\n",
       " 'CD': 16,\n",
       " 'C': 91,\n",
       " 'D': 41,\n",
       " 'AB': 16,\n",
       " 'A': 41}"
      ]
     },
     "execution_count": 4,
     "metadata": {},
     "output_type": "execute_result"
    }
   ],
   "source": [
    "\n",
    "\n",
    "def generate_guess(G, keys, N_T):\n",
    "    longest_key = sorted(keys, key=len)[-1]\n",
    "    p_generated = {key:0 for key in keys}\n",
    "    N_T_hat = 0\n",
    "    while N_T_hat < N_T:\n",
    "        p_generated[longest_key] += 1\n",
    "        for sequence, copy_number in p_generated.items():\n",
    "            if copy_number == 0:\n",
    "                continue\n",
    "            out_edges = G.out_edges(sequence, data=True)\n",
    "            weights = np.array([weight[\"weight\"] for _,_, weight in out_edges])\n",
    "            edges_to = [edge_to for _, edge_to, _ in out_edges]\n",
    "            for w, e in zip(weights, edges_to):\n",
    "                p_generated[e] += w*copy_number\n",
    "        N_T_hat = sum(p_generated.values())\n",
    "    return p_generated\n",
    "\n",
    "p_generated = generate_guess(G, keys, N_T)\n",
    "p_generated"
   ]
  },
  {
   "cell_type": "code",
   "execution_count": 5,
   "metadata": {},
   "outputs": [
    {
     "data": {
      "text/plain": [
       "OutEdgeDataView([('ABCD', 'ABC', {'weight': 1.0002732345297727}), ('ABCD', 'BCD', {'weight': 0.99998745351649}), ('ABCD', 'BC', {'weight': 0.9997551112292684}), ('ABCD', 'CD', {'weight': 0.9998141261702227}), ('ABCD', 'C', {'weight': 0.9989428425931418}), ('ABCD', 'D', {'weight': 0.9995236983111958}), ('ABCD', 'AB', {'weight': 1.0004428443994444}), ('ABCD', 'A', {'weight': 0.9995236983111958}), ('ABC', 'BC', {'weight': 0.9997551112292684}), ('ABC', 'C', {'weight': 0.9989428425931418}), ('ABC', 'AB', {'weight': 1.0004428443994444}), ('ABC', 'A', {'weight': 0.9995236983111958}), ('BCD', 'BC', {'weight': 0.9997551112292684}), ('BCD', 'CD', {'weight': 0.9998141261702227}), ('BCD', 'C', {'weight': 0.9989428425931418}), ('BCD', 'D', {'weight': 0.9995236983111958}), ('BC', 'C', {'weight': 0.9989428425931418}), ('CD', 'C', {'weight': 0.9989428425931418}), ('CD', 'D', {'weight': 0.9995236983111958}), ('AB', 'A', {'weight': 0.9995236983111958})])"
      ]
     },
     "execution_count": 5,
     "metadata": {},
     "output_type": "execute_result"
    }
   ],
   "source": [
    "def KL(a, b):\n",
    "    a = np.asarray(list(a)) \n",
    "    b = np.asarray(list(b)) \n",
    "    a = 1e-8 + a / np.sum(a)\n",
    "    b = 1e-8 + b / np.sum(b)\n",
    "\n",
    "    return np.sum(np.where(a != 0, a * np.log(a / b), 0))\n",
    "\n",
    "kl = KL(p_hat.values(), p_generated.values())\n",
    "\n",
    "lr = 0.001 # learning rate\n",
    "# time to update the graph G\n",
    "def update_weights(G, kl, p_hat, p_generated, lr, verbose=False):\n",
    "    p_hat = normalize_dict(p_hat)\n",
    "    p_generated = normalize_dict(p_generated)\n",
    "    for key in keys:\n",
    "        out_edges = G.out_edges(key, data=True)\n",
    "        for _, target, weight in out_edges:\n",
    "            target_copy_number = p_hat[target]\n",
    "            generated_target_copy_number = p_generated[target]\n",
    "            diff = target_copy_number - generated_target_copy_number\n",
    "            new_weight = max(0, weight[\"weight\"] + (diff*lr*kl)) # weight cannot be less than 0\n",
    "            if verbose:\n",
    "                print(diff, weight, new_weight)\n",
    "            # Need to add penalization here as well\n",
    "            nx.set_edge_attributes(G, {(key, target):{'weight':new_weight}})\n",
    "    return G\n",
    "G = update_weights(G, kl, p_hat, p_generated, lr)\n",
    "\n",
    "G.edges(data=True)"
   ]
  },
  {
   "cell_type": "code",
   "execution_count": 6,
   "metadata": {},
   "outputs": [],
   "source": [
    "# The loop\n",
    "\n",
    "lr = 0.1\n",
    "\n",
    "generated = {}\n",
    "kls = []\n",
    "# given p_hat\n",
    "for i in range(500):\n",
    "    p_hat = sample(keys, probs, n_sample)\n",
    "    p_generated = generate_guess(G, keys, N_T)\n",
    "    generated[i] = p_generated\n",
    "    kl = KL(p_hat.values(), p_generated.values())\n",
    "    G = update_weights(G, kl, p_hat, p_generated, lr)\n",
    "    kls.append(kl)\n",
    "    weight_sum = sum([weight[\"weight\"] for _,_,weight in G.edges(data=True)])"
   ]
  },
  {
   "cell_type": "code",
   "execution_count": 7,
   "metadata": {},
   "outputs": [
    {
     "data": {
      "image/png": "[encoded data removed]",
      "text/plain": [
       "<Figure size 1500x300 with 3 Axes>"
      ]
     },
     "metadata": {},
     "output_type": "display_data"
    }
   ],
   "source": [
    "import matplotlib.pyplot as plt\n",
    "fig, axs = plt.subplots(1,3, figsize=(15,3))\n",
    "p_generated = generated[list(generated.keys())[-1]]\n",
    "axs[0].bar(p_hat.keys(), p_hat.values())\n",
    "axs[1].bar(p_generated.keys(), p_generated.values())\n",
    "axs[2].plot(kls)\n",
    "plt.show()"
   ]
  }
 ],
 "metadata": {
  "kernelspec": {
   "display_name": ".venv",
   "language": "python",
   "name": "python3"
  },
  "language_info": {
   "codemirror_mode": {
    "name": "ipython",
    "version": 3
   },
   "file_extension": ".py",
   "mimetype": "text/x-python",
   "name": "python",
   "nbconvert_exporter": "python",
   "pygments_lexer": "ipython3",
   "version": "3.9.6"
  }
 },
 "nbformat": 4,
 "nbformat_minor": 2
}
