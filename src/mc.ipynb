{
 "cells": [
  {
   "cell_type": "markdown",
   "metadata": {},
   "source": [
    "1. We have a peptidome $p_i \\in P$\n",
    "2. We can sample from this peptidome $\\hat{p_i} \\sim P$\n",
    "3. We want to create a graph $G$ that generates* $\\hat{p_i}$. To do this:\n",
    "    - draw $\\hat{p_i} \\sim P$\n",
    "    - Generate peptidome from $G$. Calculate KL-divergence $\\delta$ between generated peptidome and $\\hat{p_i}$\n",
    "    - for pair $(u_i, u_j)$ where $u_i \\in u_j$ in $\\hat{p_i}$. Add $\\delta \\times u_i$ to $w_{i,j}$ where $w_{i,j}$ is the weight of the edge between the nodes. (Kind of)\n",
    "    - Penalize reliance on a single node by $\\epsilon \\times \\sum_i{w_{i,j}}$ where $\\epsilon$ is some penalty factor.\n",
    "    \n",
    "\n",
    "\n",
    "*To generate a peptidome from $G$. Let $N_T$ be the number of peptides in $\\hat{p_i}$. Start from the largest peptide. The peptide is cleaved with probability $w_{i,j}$. Iterate until number of peptides $\\geq N_T$."
   ]
  },
  {
   "cell_type": "code",
   "execution_count": 6,
   "metadata": {},
   "outputs": [
    {
     "data": {
      "text/plain": [
       "{'ABCD': 28,\n",
       " 'ABC': 2,\n",
       " 'BCD': 2,\n",
       " 'BC': 3,\n",
       " 'CD': 0,\n",
       " 'C': 0,\n",
       " 'D': 0,\n",
       " 'AB': 13,\n",
       " 'A': 2}"
      ]
     },
     "execution_count": 6,
     "metadata": {},
     "output_type": "execute_result"
    }
   ],
   "source": [
    "import numpy as np\n",
    "\n",
    "# Generate synthetic sample\n",
    "P = {\"ABCD\": 100, \"ABC\": 20, \"BCD\": 5, \"BC\":5, \"CD\":1, \"C\":0, \"D\":0, \"AB\": 50, \"A\": 5}\n",
    "keys = list(P.keys())\n",
    "values = list(P.values())\n",
    "probs = [v / sum(values) for v in values]\n",
    "\n",
    "n_sample = 50\n",
    "p_hat = np.random.choice(keys, n_sample, replace=True, p=probs)\n",
    "\n",
    "p_hat_dict = {k:0 for k in keys}\n",
    "for key in p_hat:\n",
    "    p_hat_dict[key] += 1\n",
    "\n",
    "p_hat_dict"
   ]
  },
  {
   "cell_type": "code",
   "execution_count": 2,
   "metadata": {},
   "outputs": [
    {
     "data": {
      "text/plain": [
       "OutEdgeDataView([('ABCD', 'ABC', {'weight': 1}), ('ABCD', 'BCD', {'weight': 1}), ('ABCD', 'BC', {'weight': 1}), ('ABCD', 'CD', {'weight': 1}), ('ABCD', 'C', {'weight': 1}), ('ABCD', 'D', {'weight': 1}), ('ABCD', 'AB', {'weight': 1}), ('ABCD', 'A', {'weight': 1}), ('ABC', 'BC', {'weight': 1}), ('ABC', 'C', {'weight': 1}), ('ABC', 'AB', {'weight': 1}), ('ABC', 'A', {'weight': 1}), ('BCD', 'BC', {'weight': 1}), ('BCD', 'CD', {'weight': 1}), ('BCD', 'C', {'weight': 1}), ('BCD', 'D', {'weight': 1}), ('BC', 'C', {'weight': 1}), ('CD', 'C', {'weight': 1}), ('CD', 'D', {'weight': 1}), ('AB', 'A', {'weight': 1})])"
      ]
     },
     "execution_count": 2,
     "metadata": {},
     "output_type": "execute_result"
    }
   ],
   "source": [
    "import networkx as nx\n",
    "\n",
    "G = nx.DiGraph()\n",
    "G.add_nodes_from(keys)\n",
    "for key1 in keys:\n",
    "    for key2 in keys:\n",
    "        if key1 in key2 and key1 != key2: #key 1 = ABC, key 2 = ABCD\n",
    "            G.add_edge(key2, key1, weight=1)\n",
    "G.edges(data=True)"
   ]
  },
  {
   "cell_type": "code",
   "execution_count": 3,
   "metadata": {},
   "outputs": [
    {
     "data": {
      "text/plain": [
       "{'ABCD': 9,\n",
       " 'ABC': 5.625,\n",
       " 'BCD': 5.625,\n",
       " 'BC': 15.9375,\n",
       " 'CD': 10.78125,\n",
       " 'C': 85.546875,\n",
       " 'D': 28.828125,\n",
       " 'AB': 10.78125,\n",
       " 'A': 46.875}"
      ]
     },
     "execution_count": 3,
     "metadata": {},
     "output_type": "execute_result"
    }
   ],
   "source": [
    "N_T = sum(values)\n",
    "longest_key = sorted(keys, key=len)[-1]\n",
    "\n",
    "p_generated = {key:0 for key in keys}\n",
    "\n",
    "\n",
    "N_T_hat = 0\n",
    "while N_T_hat < N_T:\n",
    "    p_generated[longest_key] += 1\n",
    "    for sequence, copy_number in p_generated.items():\n",
    "        if copy_number == 0:\n",
    "            continue\n",
    "        out_edges = G.out_edges(sequence, data=True)\n",
    "        weights = np.array([weight[\"weight\"] for _,_, weight in out_edges])\n",
    "        sum_w = sum(weights)\n",
    "        weights = weights/sum_w\n",
    "        edges_to = [edge_to for _, edge_to, _ in out_edges]\n",
    "        for w, e in zip(weights, edges_to):\n",
    "            p_generated[e] += w*copy_number\n",
    "    N_T_hat = sum(p_generated.values())\n",
    "p_generated"
   ]
  },
  {
   "cell_type": "code",
   "execution_count": 4,
   "metadata": {},
   "outputs": [
    {
     "name": "stdout",
     "output_type": "stream",
     "text": [
      "1.9162457771105468\n"
     ]
    },
    {
     "name": "stderr",
     "output_type": "stream",
     "text": [
      "/var/folders/64/ytcycnwx6w936vfxs5_7q3hm0000gn/T/ipykernel_19693/1200294349.py:7: RuntimeWarning: divide by zero encountered in log\n",
      "  return np.sum(np.where(a != 0, a * np.log(a / b), 0))\n",
      "/var/folders/64/ytcycnwx6w936vfxs5_7q3hm0000gn/T/ipykernel_19693/1200294349.py:7: RuntimeWarning: invalid value encountered in multiply\n",
      "  return np.sum(np.where(a != 0, a * np.log(a / b), 0))\n"
     ]
    },
    {
     "data": {
      "text/plain": [
       "OutEdgeDataView([('ABCD', 'ABC', {'weight': 1.0045510837206375}), ('ABCD', 'BCD', {'weight': 0.9911373632808638}), ('ABCD', 'BC', {'weight': 0.9732923244815217}), ('ABCD', 'CD', {'weight': 0.9793404752155269}), ('ABCD', 'C', {'weight': 0.8360711620362462}), ('ABCD', 'D', {'weight': 0.944758227206735}), ('ABCD', 'AB', {'weight': 1.0023354245408536}), ('ABCD', 'A', {'weight': 0.9120922249750537}), ('ABC', 'BC', {'weight': 0.9732923244815217}), ('ABC', 'C', {'weight': 0.8360711620362462}), ('ABC', 'AB', {'weight': 1.0023354245408536}), ('ABC', 'A', {'weight': 0.9120922249750537}), ('BCD', 'BC', {'weight': 0.9732923244815217}), ('BCD', 'CD', {'weight': 0.9793404752155269}), ('BCD', 'C', {'weight': 0.8360711620362462}), ('BCD', 'D', {'weight': 0.944758227206735}), ('BC', 'C', {'weight': 0.8360711620362462}), ('CD', 'C', {'weight': 0.8360711620362462}), ('CD', 'D', {'weight': 0.944758227206735}), ('AB', 'A', {'weight': 0.9120922249750537})])"
      ]
     },
     "execution_count": 4,
     "metadata": {},
     "output_type": "execute_result"
    }
   ],
   "source": [
    "def KL(a, b):\n",
    "    a = np.asarray(list(a)) \n",
    "    b = np.asarray(list(b)) \n",
    "    a = a / np.sum(a)\n",
    "    b = b / np.sum(b)\n",
    "\n",
    "    return np.sum(np.where(a != 0, a * np.log(a / b), 0))\n",
    "\n",
    "kl = KL(p_hat_dict.values(), p_generated.values())\n",
    "print(kl)\n",
    "lr = 0.001 # learning rate\n",
    "# time to update the graph G\n",
    "\n",
    "for key in keys:\n",
    "    out_edges = G.out_edges(key, data=True)\n",
    "    for _, target, weight in out_edges:\n",
    "        origin_copy_number = p_hat_dict[key]\n",
    "        target_copy_number = p_hat_dict[target]\n",
    "        generated_target_copy_number = p_generated[target]\n",
    "        diff = target_copy_number - generated_target_copy_number\n",
    "        new_weight = max(0, weight[\"weight\"] + (diff*lr*kl)) # weight cannot be less than 0\n",
    "        nx.set_edge_attributes(G, {(key, target):{'weight':new_weight}})\n",
    "G.edges(data=True)"
   ]
  }
 ],
 "metadata": {
  "kernelspec": {
   "display_name": ".venv",
   "language": "python",
   "name": "python3"
  },
  "language_info": {
   "codemirror_mode": {
    "name": "ipython",
    "version": 3
   },
   "file_extension": ".py",
   "mimetype": "text/x-python",
   "name": "python",
   "nbconvert_exporter": "python",
   "pygments_lexer": "ipython3",
   "version": "3.9.6"
  }
 },
 "nbformat": 4,
 "nbformat_minor": 2
}
