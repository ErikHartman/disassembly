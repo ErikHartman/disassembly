{
 "cells": [
  {
   "cell_type": "code",
   "execution_count": 1,
   "metadata": {},
   "outputs": [],
   "source": [
    "hbb = \"MVHLTPEEKSAVTALWGKVNVDEVGGEALGRLLVVYPWTQRFFESFGDLSTPDAVMGNPKKAHGKKVLGAFSDGLAHLDNLKGTFATLSELHCDKLHVDPENFRLLGNVLVCVLAHHFGKEFTPPVQAAYQKVVAGVANALAHKYH\"\n",
    "pr39 = \"METQRASLCLGRWSLWLLLLGLVVPSASAQALSYREAVLRAVDRLNEQSSEANLYRLLELDQPPKADEDPGTPKPVSFTVKETVCPRPTRQPPELCDFKENGRVKQCVGTVTLNPSIHSLDISCNEIQSVRRRPRPPYLPRPRPPPFFPPRLPPRIPPGFPPRFPPRFPGKR\"\n",
    "\n",
    "amino_acids = {'VAL':'V', 'ILE':'I', 'LEU':'L', 'GLU':'E', 'GLN':'Q', \\\n",
    "'ASP':'D', 'ASN':'N', 'HIS':'H', 'TRP':'W', 'PHE':'F', 'TYR':'Y',    \\\n",
    "'ARG':'R', 'LYS':'K', 'SER':'S', 'THR':'T', 'MET':'M', 'ALA':'A',    \\\n",
    "'GLY':'G', 'PRO':'P', 'CYS':'C'}"
   ]
  },
  {
   "cell_type": "code",
   "execution_count": 2,
   "metadata": {},
   "outputs": [],
   "source": [
    "from disassembly.simulate_proteolysis import enzyme\n",
    "\n",
    "protease_iv = enzyme({\"K\":1})\n",
    "trypsin = enzyme({\"K\":0.5, \"R\":0.5})\n",
    "elne = enzyme({\"V\":0.5, \"I\":0.25, \"A\":0.15, \"T\":0.1})\n",
    "unspecific = enzyme({v: 1/len(amino_acids.values()) for k, v in amino_acids.items()})"
   ]
  },
  {
   "cell_type": "code",
   "execution_count": null,
   "metadata": {},
   "outputs": [],
   "source": [
    "from disassembly.simulate_proteolysis import cleave\n",
    "\n",
    "nodes = cleave(hbb, trypsin, n_cleaves=100, n_starting_proteins=25)\n",
    "new_d = {}\n",
    "for k in sorted(nodes, key=len, reverse=True):\n",
    "    new_d[k] = nodes[k]\n",
    "nodes = new_d\n",
    "nodes"
   ]
  },
  {
   "cell_type": "code",
   "execution_count": 5,
   "metadata": {},
   "outputs": [],
   "source": [
    "from disassembly.disassembly import get_disassembly\n",
    "t = get_disassembly(cleave(hbb, trypsin, n_cleaves=100, n_starting_proteins=25))\n",
    "e = get_disassembly(cleave(hbb, elne, n_cleaves=100, n_starting_proteins=25))\n",
    "p = get_disassembly(cleave(hbb, protease_iv, n_cleaves=100, n_starting_proteins=25))\n",
    "u = get_disassembly(cleave(hbb, unspecific, n_cleaves=100, n_starting_proteins=25))\n",
    "\n",
    "print(e,t,p,u)"
   ]
  },
  {
   "cell_type": "code",
   "execution_count": null,
   "metadata": {},
   "outputs": [],
   "source": [
    "import matplotlib.pyplot as plt\n",
    "\n",
    "plt.bar(x=[0,1,2,3], height=[p,t,e,u], color=\"lightgray\")\n",
    "\n",
    "plt.ylabel(\"Disassembly\")\n",
    "plt.xlabel(\"Protease\")"
   ]
  },
  {
   "cell_type": "code",
   "execution_count": null,
   "metadata": {},
   "outputs": [],
   "source": [
    "from disassembly.disassembly import get_disassembly_indexes\n",
    "\n",
    "nodes = cleave(hbb, trypsin, n_cleaves=100, n_starting_proteins=25)\n",
    "new_d = {}\n",
    "for k in sorted(nodes, key=len, reverse=True):\n",
    "    new_d[k] = nodes[k]\n",
    "nodes = new_d\n",
    "\n",
    "d_i = get_disassembly_indexes(nodes)"
   ]
  },
  {
   "cell_type": "code",
   "execution_count": null,
   "metadata": {},
   "outputs": [],
   "source": [
    "fig, axs = plt.subplots(1,2)\n",
    "\n",
    "axs[0].hist(x=nodes.values())\n",
    "axs[1].hist(x=d_i.values())"
   ]
  },
  {
   "cell_type": "code",
   "execution_count": null,
   "metadata": {},
   "outputs": [],
   "source": [
    "nodes = cleave(hbb, elne, n_cleaves=100, n_starting_proteins=25)\n",
    "new_d = {}\n",
    "for k in sorted(nodes, key=len, reverse=True):\n",
    "    new_d[k] = nodes[k]\n",
    "nodes = new_d\n",
    "\n",
    "\n",
    "d_i = get_disassembly_indexes(nodes)"
   ]
  },
  {
   "cell_type": "code",
   "execution_count": null,
   "metadata": {},
   "outputs": [],
   "source": [
    "fig, axs = plt.subplots(1,2)\n",
    "\n",
    "axs[0].hist(x=nodes.values())\n",
    "axs[1].hist(x=d_i.values())"
   ]
  }
 ],
 "metadata": {
  "kernelspec": {
   "display_name": ".venv",
   "language": "python",
   "name": "python3"
  },
  "language_info": {
   "codemirror_mode": {
    "name": "ipython",
    "version": 3
   },
   "file_extension": ".py",
   "mimetype": "text/x-python",
   "name": "python",
   "nbconvert_exporter": "python",
   "pygments_lexer": "ipython3",
   "version": "3.9.6"
  }
 },
 "nbformat": 4,
 "nbformat_minor": 2
}
