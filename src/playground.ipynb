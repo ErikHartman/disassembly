{
 "cells": [
  {
   "cell_type": "code",
   "execution_count": 1,
   "metadata": {},
   "outputs": [],
   "source": [
    "import networkx as nx"
   ]
  },
  {
   "cell_type": "code",
   "execution_count": 143,
   "metadata": {},
   "outputs": [
    {
     "data": {
      "text/plain": [
       "OutEdgeDataView([('ABCD', 'ABC', {'weight': 2}), ('ABCD', 'AB', {'weight': 3}), ('ABCD', 'A', {'weight': 1}), ('ABC', 'AB', {'weight': 3}), ('ABC', 'A', {'weight': 1}), ('AB', 'A', {'weight': 1})])"
      ]
     },
     "execution_count": 143,
     "metadata": {},
     "output_type": "execute_result"
    }
   ],
   "source": [
    "nodes = {\"ABCD\": 1, \"ABC\": 2, \"AB\": 3, \"A\": 1}  # node and count\n",
    "\n",
    "G = nx.DiGraph()\n",
    "for u in nodes.keys():\n",
    "    G.add_node(u, count=nodes[u])\n",
    "\n",
    "for u in nodes.keys():\n",
    "    for v in nodes.keys():\n",
    "        if v in u and u != v:\n",
    "            G.add_edge(u, v, weight=nodes[v])\n",
    "\n",
    "G.edges(data=True)"
   ]
  },
  {
   "cell_type": "code",
   "execution_count": 144,
   "metadata": {},
   "outputs": [
    {
     "data": {
      "text/plain": [
       "[('ABCD', {'count': 1}),\n",
       " ('ABC', {'count': 2}),\n",
       " ('AB', {'count': 3}),\n",
       " ('A', {'count': 1})]"
      ]
     },
     "execution_count": 144,
     "metadata": {},
     "output_type": "execute_result"
    }
   ],
   "source": [
    "list(G.nodes(data=True))"
   ]
  },
  {
   "cell_type": "code",
   "execution_count": 145,
   "metadata": {},
   "outputs": [
    {
     "name": "stdout",
     "output_type": "stream",
     "text": [
      "0.3333333333333333\n"
     ]
    }
   ],
   "source": [
    "def get_p(G, source, target):\n",
    "    out_edges = sum([edge[2][\"weight\"] for edge in G.edges(source, data=True)])\n",
    "    node_cnt = G.nodes(data=True)[target][\"count\"]\n",
    "    p = node_cnt / out_edges  # nodes in current \"layer\" / all outgoing edges\n",
    "    return p\n",
    "\n",
    "\n",
    "print(get_p(G, \"ABCD\", \"ABC\"))"
   ]
  },
  {
   "cell_type": "code",
   "execution_count": 146,
   "metadata": {},
   "outputs": [
    {
     "data": {
      "text/plain": [
       "[['ABCD', 'ABC', 'AB', 'A'],\n",
       " ['ABCD', 'ABC', 'A'],\n",
       " ['ABCD', 'AB', 'A'],\n",
       " ['ABCD', 'A']]"
      ]
     },
     "execution_count": 146,
     "metadata": {},
     "output_type": "execute_result"
    }
   ],
   "source": [
    "def get_paths(G, source, target):\n",
    "    return list(nx.all_simple_paths(G, source, target))\n",
    "\n",
    "\n",
    "paths = get_paths(G, \"ABCD\", \"A\")\n",
    "paths"
   ]
  },
  {
   "cell_type": "code",
   "execution_count": 150,
   "metadata": {},
   "outputs": [
    {
     "data": {
      "text/plain": [
       "[(['ABCD', 'ABC', 'AB', 'A'], 0.25),\n",
       " (['ABCD', 'ABC', 'A'], 0.08333333333333333),\n",
       " (['ABCD', 'AB', 'A'], 0.5),\n",
       " (['ABCD', 'A'], 0.16666666666666666)]"
      ]
     },
     "execution_count": 150,
     "metadata": {},
     "output_type": "execute_result"
    }
   ],
   "source": [
    "def get_path_prob(G, source, target):\n",
    "    paths = get_paths(G, source, target)\n",
    "    path_probs = []\n",
    "    for path in paths:\n",
    "        probs = []\n",
    "        for i in range(len(path) - 1):\n",
    "            probs.append(get_p(G, path[i], path[i + 1]))\n",
    "        prob = 1\n",
    "        for p in probs:\n",
    "            prob *= p\n",
    "        path_probs.append((path, prob))\n",
    "    return path_probs\n",
    "\n",
    "\n",
    "path_probs = get_path_prob(G, \"ABCD\", \"A\")\n",
    "path_probs"
   ]
  },
  {
   "cell_type": "code",
   "execution_count": 151,
   "metadata": {},
   "outputs": [
    {
     "data": {
      "text/plain": [
       "2.083333333333333"
      ]
     },
     "execution_count": 151,
     "metadata": {},
     "output_type": "execute_result"
    }
   ],
   "source": [
    "def get_path_length(path_probs):\n",
    "    length = 0\n",
    "    for path_prob in path_probs:\n",
    "        l = len(path_prob[0]) - 1\n",
    "        p = path_prob[1]\n",
    "        length += l * p\n",
    "    return length\n",
    "\n",
    "\n",
    "get_path_length(path_probs)"
   ]
  },
  {
   "cell_type": "markdown",
   "metadata": {},
   "source": [
    "# Simulate proteolysis\n"
   ]
  },
  {
   "cell_type": "code",
   "execution_count": 29,
   "metadata": {},
   "outputs": [],
   "source": [
    "pr39 = \"METQRASLCLGRWSLWLLLLGLVVPSASAQALSYREAVLRAVDRLNEQSSEANLYRLLELDQPPKADEDPGTPKPVSFTVKETVCPRPTRQPPELCDFKENGRVKQCVGTVTLNPSIHSLDISCNEIQSVRRRPRPPYLPRPRPPPFFPPRLPPRIPPGFPPRFPPRFPGKR\"\n",
    "pr39_trunc = \"METQRASLCLGRWSLWLLLLGLVVPSASAQALSYREAVLRAVDRLNEQSSEANLYRLLELDQPPKADEDPGTPKPVSFTVKETVCPRPTRQPPELCDFKENGR\"\n",
    "\n",
    "amino_acids = {\n",
    "    \"VAL\": \"V\",\n",
    "    \"ILE\": \"I\",\n",
    "    \"LEU\": \"L\",\n",
    "    \"GLU\": \"E\",\n",
    "    \"GLN\": \"Q\",\n",
    "    \"ASP\": \"D\",\n",
    "    \"ASN\": \"N\",\n",
    "    \"HIS\": \"H\",\n",
    "    \"TRP\": \"W\",\n",
    "    \"PHE\": \"F\",\n",
    "    \"TYR\": \"Y\",\n",
    "    \"ARG\": \"R\",\n",
    "    \"LYS\": \"K\",\n",
    "    \"SER\": \"S\",\n",
    "    \"THR\": \"T\",\n",
    "    \"MET\": \"M\",\n",
    "    \"ALA\": \"A\",\n",
    "    \"GLY\": \"G\",\n",
    "    \"PRO\": \"P\",\n",
    "    \"CYS\": \"C\",\n",
    "}\n",
    "\n",
    "\n",
    "class enzyme:\n",
    "    \"\"\"\n",
    "    Enzyme with p1 specificity\n",
    "    \"\"\"\n",
    "\n",
    "    def __init__(self, specificity: dict, name: str):\n",
    "        self.specificity = specificity\n",
    "        assert sum(specificity.values()) - 1 < 0.001\n",
    "        self.aas = list(specificity.keys())\n",
    "        self.name = name\n",
    "\n",
    "\n",
    "protease_iv = enzyme({\"K\": 1}, \"protease_iv\")\n",
    "trypsin = enzyme({\"K\": 0.5, \"R\": 0.5}, \"trypsin\")\n",
    "elne = enzyme({\"V\": 0.5, \"I\": 0.25, \"A\": 0.15, \"T\": 0.1}, \"elne\")\n",
    "unspecific = enzyme(\n",
    "    {v: 1 / len(amino_acids.values()) for v in amino_acids.values()}, \"unspecific\"\n",
    ")\n",
    "\n",
    "\n",
    "class enzyme_set:\n",
    "    def __init__(self, enzymes: list, activities: list):\n",
    "        total_activity = sum(activities)\n",
    "        activities = [a / total_activity for a in activities]\n",
    "        assert len(enzymes) == len(activities)\n",
    "        self.enzyme_dict = {e: a for e, a in zip(enzymes, activities)}\n",
    "\n",
    "    def get_enzyme(self, name):\n",
    "        for enzyme in self.enzyme_dict.keys():\n",
    "            if enzyme.name == name:\n",
    "                return enzyme\n",
    "        print(\"enzyme not in dict\")\n",
    "        return None\n",
    "\n",
    "\n",
    "enzymes = enzyme_set([protease_iv, trypsin, elne], [3, 2, 3])"
   ]
  },
  {
   "cell_type": "code",
   "execution_count": 96,
   "metadata": {},
   "outputs": [],
   "source": [
    "def find_aminoacids_in_sequence(protein_sequence, target_aminoacid):\n",
    "    return [i for i, aa in enumerate(protein_sequence) if aa == target_aminoacid]\n",
    "\n",
    "\n",
    "n_start = 100  # copy number of starting sequence\n",
    "n_iterations = 500  # how many iterations to run proteolysis\n",
    "starting_sequence = pr39\n",
    "\n",
    "import networkx as nx\n",
    "import numpy as np\n",
    "\n",
    "sequence_dict = {starting_sequence: n_start}  # a dict with sequence:copy_number\n",
    "sequence_graph = (\n",
    "    nx.DiGraph()\n",
    ")  # a weighted graph, telling us how degradation has occured\n",
    "sequence_graph.add_node(starting_sequence, len=len(starting_sequence))\n",
    "\n",
    "\"\"\"\n",
    "At every iteration we want to:\n",
    "\n",
    "1. Draw number N1 for endoprotease cuts\n",
    "2. Draw number N2 for exoprotease cuts\n",
    "3. Get the sum(N_cutsites*specificity). This * activity is probability for cut\n",
    "4. For selected enzyme, perform a cut\n",
    "5. Repeat N1 times.\n",
    "6. After each cut, note the origin and target. Keep targets in sequence_dict and \n",
    "fill the graph with each origin-target cut.\n",
    "\n",
    "\"\"\"\n",
    "\n",
    "\n",
    "def get_cut_probability(sequence_dict: dict, enzymes: enzyme_set) -> dict:\n",
    "    \"\"\"\n",
    "    Returns probability for enzyme cut given enzymes and sequences\n",
    "    \"\"\"\n",
    "    freqs = {}\n",
    "    for enzyme, activity in enzymes.enzyme_dict.items():\n",
    "        specificities = enzyme.specificity\n",
    "        freq = 0\n",
    "        for sequence, copy_number in sequence_dict.items():\n",
    "            for aminoacid, specificity in specificities.items():\n",
    "                n_cut_sites = len(find_aminoacids_in_sequence(sequence, aminoacid))\n",
    "                freq += n_cut_sites * specificity * activity * copy_number\n",
    "        freqs[enzyme.name] = freq\n",
    "    probs = {k: v / sum(freqs.values()) for k, v in freqs.items()}\n",
    "    return probs\n",
    "\n",
    "\n",
    "def update_sequence_dict(sequence_dict : dict, source_sequence, target_sequence, endo_or_exo : str):\n",
    "    if endo_or_exo == \"endo\":mult_factor = 0.5\n",
    "    else:mult_factor = 1\n",
    "    sequence_dict[source_sequence] -= 1 * mult_factor\n",
    "    if sequence_dict[source_sequence] == 0:\n",
    "        sequence_dict.pop(source_sequence)\n",
    "    if target_sequence in sequence_dict.keys():\n",
    "        sequence_dict[target_sequence] += 1\n",
    "    else:\n",
    "        sequence_dict[target_sequence] = 1\n",
    "    return sequence_dict\n",
    "\n",
    "def update_sequence_graph(sequence_graph : nx.DiGraph, source_sequence, target_sequence):\n",
    "    if target_sequence not in sequence_graph.nodes():\n",
    "        sequence_graph.add_node(target_sequence, len=len(target_sequence))\n",
    "\n",
    "    if ~sequence_graph.has_edge(source_sequence, target_sequence):\n",
    "        sequence_graph.add_edge(source_sequence, target_sequence, n=1)\n",
    "    else:\n",
    "        previous_n = sequence_graph.get_edge_data(source_sequence, target_sequence)[\"n\"]\n",
    "        new_n = previous_n + 1\n",
    "        sequence_graph[source_sequence][target_sequence][\"n\"] = new_n\n",
    "    return sequence_graph\n",
    "\n",
    "for _ in range(n_iterations):\n",
    "    exo_or_endo = np.random.choice([\"exo\", \"endo\"], p=[0.5, 0.5])\n",
    "    if exo_or_endo == \"exo\":\n",
    "        sequences_longer_than_2 = [s for s in sequence_dict.keys() if len(s)>2]\n",
    " \n",
    "        sequence_to_chew = np.random.choice(\n",
    "            sequences_longer_than_2,\n",
    "            p=[sequence_dict[v] / sum([sequence_dict[s] for s in sequences_longer_than_2]) for v in sequences_longer_than_2],\n",
    "        )\n",
    "        \n",
    "        n_or_c_term = np.random.choice([\"n\", \"c\"], p =[0.5, 0.5])\n",
    "        if n_or_c_term == \"n\": new_sequence = sequence_to_chew[1:]\n",
    "        else: new_sequence = sequence_to_chew[:-1]\n",
    "        sequence_dict = update_sequence_dict(sequence_dict, sequence_to_chew, new_sequence, endo_or_exo=\"exo\")\n",
    "        sequence_graph = update_sequence_graph(sequence_graph, sequence_to_chew, new_sequence)\n",
    "\n",
    "    elif exo_or_endo == \"endo\":\n",
    "        cut_probabilities = get_cut_probability(sequence_dict, enzymes)\n",
    "        enzyme_that_will_cut = np.random.choice(list(cut_probabilities.keys()), p=list(cut_probabilities.values()))\n",
    "        e : enzyme = enzymes.get_enzyme(enzyme_that_will_cut)\n",
    "        \n",
    "        # Here I say that p(sequence) is prop. to n_cutsites * copy_number. This might not be true. Maybe only copy_number.\n",
    "        sequence_frequencies = {} \n",
    "        for sequence in sequence_dict.keys():\n",
    "            n_cut_sites_in_sequence = 0\n",
    "            for aminoacid in e.specificity.keys():\n",
    "                n_cut_sites_in_sequence += len(find_aminoacids_in_sequence(sequence, aminoacid)) * e.specificity[aminoacid]\n",
    "            sequence_frequencies[sequence] = n_cut_sites_in_sequence * sequence_dict[sequence]\n",
    "\n",
    "        sequence_to_cut  = np.random.choice(list(sequence_frequencies.keys()), \n",
    "                                            p=[p / sum(sequence_frequencies.values()) for \n",
    "                                            p in sequence_frequencies.values()])\n",
    "\n",
    "        index_to_cut = {}\n",
    "        for aminoacid in e.specificity.keys():\n",
    "            indices_for_aminoacid = find_aminoacids_in_sequence(sequence_to_cut, aminoacid)\n",
    "            for index in indices_for_aminoacid:\n",
    "                if index != len(sequence_to_cut):\n",
    "                    index_to_cut[index] = e.specificity[aminoacid]\n",
    "        \n",
    "        cutting_index = np.random.choice(list(index_to_cut.keys()), p = [p / sum(index_to_cut.values()) for p  in index_to_cut.values()])\n",
    "        left = sequence_to_cut[:cutting_index+1]\n",
    "        right = sequence_to_cut[cutting_index+1:]\n",
    "        sequence_dict = update_sequence_dict(sequence_dict, sequence_to_cut, left, endo_or_exo=\"endo\")\n",
    "        sequence_dict = update_sequence_dict(sequence_dict, sequence_to_cut, right, endo_or_exo=\"endo\")\n",
    "        sequence_graph = update_sequence_graph(sequence_graph, sequence_to_cut, left)\n",
    "        sequence_graph = update_sequence_graph(sequence_graph, sequence_to_cut, right)\n"
   ]
  },
  {
   "cell_type": "code",
   "execution_count": 97,
   "metadata": {},
   "outputs": [
    {
     "data": {
      "text/plain": [
       "(array([50., 46., 42., 42., 28., 22.,  9.,  5.,  4.,  6.]),\n",
       " array([  0. ,  17.2,  34.4,  51.6,  68.8,  86. , 103.2, 120.4, 137.6,\n",
       "        154.8, 172. ]),\n",
       " <BarContainer object of 10 artists>)"
      ]
     },
     "execution_count": 97,
     "metadata": {},
     "output_type": "execute_result"
    },
    {
     "data": {
      "image/png": "[encoded data removed]",
      "text/plain": [
       "<Figure size 640x480 with 1 Axes>"
      ]
     },
     "metadata": {},
     "output_type": "display_data"
    }
   ],
   "source": [
    "import matplotlib.pyplot as plt\n",
    "\n",
    "plt.hist([len(s) for s in sequence_dict.keys()])"
   ]
  },
  {
   "cell_type": "code",
   "execution_count": null,
   "metadata": {},
   "outputs": [],
   "source": []
  }
 ],
 "metadata": {
  "kernelspec": {
   "display_name": ".venv",
   "language": "python",
   "name": "python3"
  },
  "language_info": {
   "codemirror_mode": {
    "name": "ipython",
    "version": 3
   },
   "file_extension": ".py",
   "mimetype": "text/x-python",
   "name": "python",
   "nbconvert_exporter": "python",
   "pygments_lexer": "ipython3",
   "version": "3.9.6"
  }
 },
 "nbformat": 4,
 "nbformat_minor": 2
}
