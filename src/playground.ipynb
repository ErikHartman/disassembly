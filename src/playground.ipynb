{
 "cells": [
  {
   "cell_type": "markdown",
   "metadata": {},
   "source": [
    "# Information we have\n",
    "\n",
    "If distance == 1 (exoprotease), this is more likely.\n",
    "\n",
    "We have a probability distribution over cut-sites at p1."
   ]
  },
  {
   "cell_type": "markdown",
   "metadata": {},
   "source": [
    "# Loss function\n",
    "\n",
    "Because probabilities: $\\sum|w_i| = $ number of nodes\n",
    "\n",
    "We want to focus weight on a small set of nodes. This could then be number of nonzero weights: $N_{w>0}$.\n",
    "\n",
    "Possible loss function with KL and L1:\n",
    "\n",
    "$Loss(w)$ = $D_{KL}(w)$ + $\\lambda*N_{w>0}$\n",
    "\n",
    "$D_{KL}(w) = \\sum q(x | w) log(\\frac{q(x | w)}{p(x)})$\n",
    "\n",
    "Loss function with difference and L1:\n",
    "\n",
    "$Loss = \\sum_i|q(x_i)-q(\\hat{x_i})| + \\lambda*N_{w>0}$\n"
   ]
  },
  {
   "cell_type": "markdown",
   "metadata": {},
   "source": [
    "# Weight updating\n",
    "\n",
    "We want to update with respect to the gradient of each weight. \n",
    "\n",
    "$source * weight$ is how much the weight contributes to the target.\n"
   ]
  },
  {
   "cell_type": "code",
   "execution_count": 37,
   "metadata": {},
   "outputs": [],
   "source": [
    "import networkx as nx\n",
    "import numpy as np\n",
    "\n",
    "\n",
    "P = {\n",
    "    \"ABCD\": 200,\n",
    "    \"ABC\": 200,\n",
    "    \"BCD\": 50,\n",
    "    \"BC\": 50,\n",
    "    \"C\": 100,\n",
    "    \"AB\": 200,\n",
    "    \"B\": 100,\n",
    "    \"A\": 50,\n",
    "}\n",
    "keys = list(P.keys())\n",
    "values = list(P.values())\n",
    "\n",
    "G = nx.DiGraph()\n",
    "G.add_nodes_from([(k, {\"layer\": len(k)}) for k in keys])\n",
    "for key1 in keys:\n",
    "    for key2 in keys:\n",
    "        if key1 == key2:\n",
    "            G.add_edge(key2, key1, weight=np.random.uniform(0.5, 1))\n",
    "        elif key2.startswith(key1) or key2.endswith(key1):  # key 1 = ABC, key 2 = ABCD\n",
    "            G.add_edge(key2, key1, weight=np.random.uniform(0, 1))\n",
    "\n",
    "for node in G.nodes():\n",
    "    out_edges = G.out_edges(node, data=True)\n",
    "\n",
    "    total_out = sum([data[\"weight\"] for s, t, data in out_edges])\n",
    "    for key, target, data in out_edges:\n",
    "        nx.set_edge_attributes(\n",
    "            G, {(key, target): {\"weight\": data[\"weight\"] / total_out}}\n",
    "        )"
   ]
  },
  {
   "cell_type": "code",
   "execution_count": 38,
   "metadata": {},
   "outputs": [
    {
     "data": {
      "text/plain": [
       "{'ABCD': 0.22611671648229992,\n",
       " 'ABC': 0.07028770909065386,\n",
       " 'BCD': 0.009926304378120771,\n",
       " 'BC': 0.013702349107551883,\n",
       " 'C': 0.044919960336891974,\n",
       " 'AB': 0.18212188778765828,\n",
       " 'B': 0.02907890618778704,\n",
       " 'A': 0.4238461666290363}"
      ]
     },
     "execution_count": 38,
     "metadata": {},
     "output_type": "execute_result"
    }
   ],
   "source": [
    "def generate_guess(G: nx.DiGraph, keys):\n",
    "    \"\"\"\n",
    "    Outputs a tuple of the distribution for the longest node and a matrix\n",
    "    \"\"\"\n",
    "    longest_key = sorted(keys, key=len)[-1]\n",
    "    p_generated = {}\n",
    "    terminal_nodes = [node for node in G.nodes() if G.out_degree(node) == 1]\n",
    "\n",
    "    for node in terminal_nodes:  # one hot terminal nodes\n",
    "        oh_node = create_one_hot(keys, node)\n",
    "        p_generated[node] = oh_node\n",
    "\n",
    "    out_edges = {\n",
    "        source: [target for _, target in G.out_edges(source) if source != target]\n",
    "        for source in G.nodes()\n",
    "    }\n",
    "\n",
    "    while len(p_generated.keys()) < len(keys):\n",
    "        solvables = get_solvable(out_edges, p_generated)\n",
    "        for solvable in solvables:\n",
    "            p_generated[solvable] = np.zeros(len(keys))\n",
    "            for source, target in G.out_edges(solvable):\n",
    "                if source == target:\n",
    "                    p_target = create_one_hot(keys, source)\n",
    "                else:\n",
    "                    p_target = p_generated[target]\n",
    "                w_source_target = G[source][target][\"weight\"]\n",
    "                p_generated[source] += w_source_target * p_target\n",
    "    guess = {keys[i] : p_generated[longest_key][i] for i in range(len(keys))}\n",
    "    return guess, pd.DataFrame(p_generated, index=keys)\n",
    "\n",
    "\n",
    "import pandas as pd\n",
    "\n",
    "\n",
    "def create_one_hot(keys, key):\n",
    "    one_hot = np.zeros(len(keys))\n",
    "    one_hot[keys.index(key)] = 1\n",
    "    return one_hot\n",
    "\n",
    "\n",
    "def get_solvable(out_edges, p_generated):\n",
    "    solvable = []\n",
    "    for source, targets in out_edges.items():\n",
    "        if (\n",
    "            set(targets).issubset(set((p_generated.keys())))\n",
    "            and source not in p_generated.keys()\n",
    "        ):\n",
    "            solvable.append(source)\n",
    "    return solvable\n",
    "\n",
    "guess, df = generate_guess(G, keys)\n",
    "guess"
   ]
  },
  {
   "cell_type": "markdown",
   "metadata": {},
   "source": [
    "$dL / dp = ln(p/q) + 1$\n",
    "\n",
    "$dp / dw = P ( $ arriving at source $ ) * P( $ target $ )$\n",
    "\n",
    "$dL / dw = dL / dp * dp / dw$"
   ]
  },
  {
   "cell_type": "code",
   "execution_count": 39,
   "metadata": {},
   "outputs": [
    {
     "data": {
      "text/plain": [
       "{('ABCD', 'ABCD'): 0.8510218386204425,\n",
       " ('ABCD', 'ABC'): 0.2645376085117058,\n",
       " ('ABCD', 'BCD'): 0.03735903268892437,\n",
       " ('ABCD', 'AB'): 0.6854411571566015,\n",
       " ('ABCD', 'A'): 1.5952042362383416,\n",
       " ('ABC', 'ABC'): 0.0577896349429695,\n",
       " ('ABC', 'BC'): 0.011265892188423023,\n",
       " ('ABC', 'C'): 0.03693260376680613,\n",
       " ('ABC', 'AB'): 0.14973823370454253,\n",
       " ('ABC', 'A'): 0.3484807736424856,\n",
       " ('BCD', 'BCD'): 0.0008668730360888347,\n",
       " ('BCD', 'BC'): 0.0011966383983342441,\n",
       " ('BCD', 'B'): 0.0025394868757713466,\n",
       " ('BC', 'BC'): 0.0026398190592156205,\n",
       " ('BC', 'C'): 0.008654031984280924,\n",
       " ('BC', 'B'): 0.0056021817991307975,\n",
       " ('C', 'C'): 0.007594282752505478,\n",
       " ('AB', 'AB'): 0.30392587185939435,\n",
       " ('AB', 'B'): 0.0485270168412982,\n",
       " ('AB', 'A'): 0.7073164971647163,\n",
       " ('B', 'B'): 0.003182468893312917,\n",
       " ('A', 'A'): 0.6761212005200207}"
      ]
     },
     "execution_count": 39,
     "metadata": {},
     "output_type": "execute_result"
    }
   ],
   "source": [
    "def compute_dp_dw(G, keys, guess):\n",
    "    longest_key = sorted(keys, key=len)[-1]\n",
    "    prob_traversed = {key: 0 for key in keys}\n",
    "\n",
    "    prob_traversed[longest_key] = 1\n",
    "    for sequence, n in prob_traversed.items():\n",
    "        out_edges = [\n",
    "            (source, target, data)\n",
    "            for source, target, data in G.out_edges(sequence, data=True)\n",
    "            if source != target\n",
    "        ]\n",
    "        weights = np.array([weight[\"weight\"] for _, _, weight in out_edges])\n",
    "        edges_to = [edge_to for _, edge_to, _ in out_edges]\n",
    "        for w, e in zip(weights, edges_to):\n",
    "            prob_traversed[e] += w * n\n",
    "\n",
    "\n",
    "    dp_dw = {}\n",
    "\n",
    "    for key in keys:\n",
    "        out_edges = G.out_edges(key)\n",
    "        for source, target in out_edges:\n",
    "            dp_dw[(source, target)] = prob_traversed[source] * guess[target]\n",
    "\n",
    "    return dp_dw\n",
    "\n",
    "from disassembly.estimate_weights import KL_gradient, KL\n",
    "def compute_dL_dp(q,p):\n",
    "    return KL_gradient(q,p)\n",
    "\n",
    "def compute_dL_dw(dL_dp, dp_dw):\n",
    "    for edge, val in dp_dw.items():\n",
    "        dp_dw[edge] = val*dL_dp\n",
    "    return dp_dw\n",
    "\n",
    "dp_dw = compute_dp_dw(G, keys, guess)\n",
    "dL_dp = compute_dL_dp(guess.values(), P.values())\n",
    "\n",
    "compute_dL_dw(dL_dp, dp_dw)"
   ]
  },
  {
   "cell_type": "code",
   "execution_count": 40,
   "metadata": {},
   "outputs": [],
   "source": [
    "def update_weights(G, grad, lr):\n",
    "    for source, target in G.edges():\n",
    "        old_weight = G[source][target][\"weight\"]\n",
    "        new_weight = old_weight - lr*grad[(source, target)]\n",
    "        nx.set_edge_attributes(\n",
    "                G, {(source, target): {\"weight\": new_weight}}\n",
    "            )\n",
    "    # normalizw to probabilities\n",
    "    for key in G.nodes():   \n",
    "        out_edges = G.out_edges(key, data=True)\n",
    "        total_out = sum([data[\"weight\"] for _, _, data in out_edges])\n",
    "        for key, target, data in out_edges:\n",
    "            nx.set_edge_attributes(\n",
    "                G, {(key, target): {\"weight\": data[\"weight\"] / total_out}}\n",
    "            )\n",
    "    return G"
   ]
  },
  {
   "cell_type": "code",
   "execution_count": 41,
   "metadata": {},
   "outputs": [],
   "source": [
    "# the loop\n",
    "\n",
    "# 1. generate_guess\n",
    "# 2. compute loss (KL)\n",
    "# 3. compute gradient\n",
    "#       a. compute dL_dp\n",
    "    #   b. compute dp_dw\n",
    "\n",
    "guess, df = generate_guess(G, keys)\n",
    "loss = KL(guess.values(), P.values())\n",
    "\n",
    "dp_dw = compute_dp_dw(G, keys, guess)\n",
    "dL_dp = compute_dL_dp(guess.values(), P.values())\n",
    "grad = compute_dL_dw(dL_dp, dp_dw)\n",
    "lr = 0.001\n",
    "generated = {}\n",
    "kls = []\n",
    "for i in range(1000):\n",
    "    guess, df = generate_guess(G, keys)\n",
    "    generated[i] = guess\n",
    "    kl = KL(guess.values(), P.values()) \n",
    "    dp_dw = compute_dp_dw(G, keys, guess)\n",
    "    dL_dp = compute_dL_dp(guess.values(), P.values())\n",
    "    if dL_dp == np.nan:\n",
    "        print(guess)\n",
    "    grad = compute_dL_dw(dL_dp, dp_dw)\n",
    "    G = update_weights(G, grad, lr)\n",
    "    kls.append(kl)"
   ]
  },
  {
   "cell_type": "code",
   "execution_count": 42,
   "metadata": {},
   "outputs": [
    {
     "data": {
      "image/png": "[encoded data removed]",
      "text/plain": [
       "<Figure size 640x480 with 3 Axes>"
      ]
     },
     "metadata": {},
     "output_type": "display_data"
    }
   ],
   "source": [
    "import matplotlib.pyplot as plt\n",
    "fig, axs = plt.subplot_mosaic(\n",
    "    [[\"generated\", \"kl\"], [\"true\", \"kl\"]], width_ratios=[2, 2]\n",
    ")\n",
    "\n",
    "generated_sum = {k: 0 for k in generated[0].keys()}\n",
    "\n",
    "for p_generated in [\n",
    "    generated[i]\n",
    "    for i in range(\n",
    "        len(generated.keys()) - int(len(generated.keys()) / 5), len(generated.keys())\n",
    "    )\n",
    "]:\n",
    "    for k, v in p_generated.items():\n",
    "        generated_sum[k] += v / 5\n",
    "\n",
    "axs[\"true\"].bar(P.keys(), [v / sum(P.values()) for v in P.values()])\n",
    "axs[\"generated\"].bar(\n",
    "    generated_sum.keys(),\n",
    "    [v / sum(generated_sum.values()) for v in generated_sum.values()],\n",
    "    color=\"orange\",\n",
    ")\n",
    "axs[\"kl\"].plot(kls)\n",
    "axs[\"true\"].set_title(\"True distribution\")\n",
    "axs[\"generated\"].set_title(f\"Generated distribution\")\n",
    "axs[\"kl\"].set_title(\"KL divergence\")\n",
    "axs[\"true\"].set_xticks([])\n",
    "axs[\"generated\"].set_xticks([])\n",
    "plt.show()"
   ]
  }
 ],
 "metadata": {
  "kernelspec": {
   "display_name": ".venv",
   "language": "python",
   "name": "python3"
  },
  "language_info": {
   "codemirror_mode": {
    "name": "ipython",
    "version": 3
   },
   "file_extension": ".py",
   "mimetype": "text/x-python",
   "name": "python",
   "nbconvert_exporter": "python",
   "pygments_lexer": "ipython3",
   "version": "3.9.6"
  }
 },
 "nbformat": 4,
 "nbformat_minor": 2
}
