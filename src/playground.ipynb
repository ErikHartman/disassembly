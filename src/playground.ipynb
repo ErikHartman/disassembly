{
 "cells": [
  {
   "cell_type": "code",
   "execution_count": 1,
   "metadata": {},
   "outputs": [],
   "source": [
    "import networkx as nx"
   ]
  },
  {
   "cell_type": "code",
   "execution_count": 143,
   "metadata": {},
   "outputs": [
    {
     "data": {
      "text/plain": [
       "OutEdgeDataView([('ABCD', 'ABC', {'weight': 2}), ('ABCD', 'AB', {'weight': 3}), ('ABCD', 'A', {'weight': 1}), ('ABC', 'AB', {'weight': 3}), ('ABC', 'A', {'weight': 1}), ('AB', 'A', {'weight': 1})])"
      ]
     },
     "execution_count": 143,
     "metadata": {},
     "output_type": "execute_result"
    }
   ],
   "source": [
    "nodes = {\"ABCD\":1,\n",
    "         \"ABC\":2,\n",
    "         \"AB\":3,\n",
    "         \"A\":1\n",
    "         }  # node and count\n",
    "\n",
    "G = nx.DiGraph()\n",
    "for u in nodes.keys():\n",
    "    G.add_node(u, count=nodes[u])\n",
    "\n",
    "for u in nodes.keys():\n",
    "    for v in nodes.keys():\n",
    "        if v in u and u != v:\n",
    "            G.add_edge(u, v, weight=nodes[v])\n",
    "\n",
    "G.edges(data=True)"
   ]
  },
  {
   "cell_type": "code",
   "execution_count": 144,
   "metadata": {},
   "outputs": [
    {
     "data": {
      "text/plain": [
       "[('ABCD', {'count': 1}),\n",
       " ('ABC', {'count': 2}),\n",
       " ('AB', {'count': 3}),\n",
       " ('A', {'count': 1})]"
      ]
     },
     "execution_count": 144,
     "metadata": {},
     "output_type": "execute_result"
    }
   ],
   "source": [
    "list(G.nodes(data=True))"
   ]
  },
  {
   "cell_type": "code",
   "execution_count": 145,
   "metadata": {},
   "outputs": [
    {
     "name": "stdout",
     "output_type": "stream",
     "text": [
      "0.3333333333333333\n"
     ]
    }
   ],
   "source": [
    "def get_p(G, source, target):\n",
    "    out_edges = sum([edge[2][\"weight\"] for edge in G.edges(source, data=True)])\n",
    "    node_cnt = G.nodes(data=True)[target][\"count\"]\n",
    "    p = node_cnt / out_edges  # nodes in current \"layer\" / all outgoing edges\n",
    "    return  p\n",
    "\n",
    "print(get_p(G,\"ABCD\", \"ABC\"))"
   ]
  },
  {
   "cell_type": "code",
   "execution_count": 146,
   "metadata": {},
   "outputs": [
    {
     "data": {
      "text/plain": [
       "[['ABCD', 'ABC', 'AB', 'A'],\n",
       " ['ABCD', 'ABC', 'A'],\n",
       " ['ABCD', 'AB', 'A'],\n",
       " ['ABCD', 'A']]"
      ]
     },
     "execution_count": 146,
     "metadata": {},
     "output_type": "execute_result"
    }
   ],
   "source": [
    "def get_paths(G, source, target):\n",
    "    return list(nx.all_simple_paths(G, source, target))\n",
    "\n",
    "paths = get_paths(G, \"ABCD\", \"A\")\n",
    "paths"
   ]
  },
  {
   "cell_type": "code",
   "execution_count": 147,
   "metadata": {},
   "outputs": [
    {
     "data": {
      "text/plain": [
       "[(['ABCD', 'ABC', 'AB', 'A'], 0.25),\n",
       " (['ABCD', 'ABC', 'A'], 0.08333333333333333),\n",
       " (['ABCD', 'AB', 'A'], 0.5),\n",
       " (['ABCD', 'A'], 0.16666666666666666)]"
      ]
     },
     "execution_count": 147,
     "metadata": {},
     "output_type": "execute_result"
    }
   ],
   "source": [
    "def get_path_prob(G, source, target):\n",
    "    paths = get_paths(G, source, target)\n",
    "    path_probs = []\n",
    "    for path in paths:\n",
    "        probs = []\n",
    "        for i in range(len(path)-1):\n",
    "            probs.append(get_p(G, path[i], path[i+1]))\n",
    "        prob = 1\n",
    "        for p in probs:\n",
    "            prob *= p\n",
    "        path_probs.append((path, prob))\n",
    "    return path_probs\n",
    "        \n",
    "path_probs = get_path_prob(G, \"ABCD\", \"A\")\n",
    "path_probs"
   ]
  },
  {
   "cell_type": "code",
   "execution_count": 149,
   "metadata": {},
   "outputs": [
    {
     "data": {
      "text/plain": [
       "2.083333333333333"
      ]
     },
     "execution_count": 149,
     "metadata": {},
     "output_type": "execute_result"
    }
   ],
   "source": [
    "def get_path_length(path_probs):\n",
    "    length = 0\n",
    "    for path_prob in path_probs:\n",
    "        l = len(path_prob[0]) - 1\n",
    "        p = path_prob[1]\n",
    "        length += l*p\n",
    "    return length \n",
    "\n",
    "get_path_length(path_probs)"
   ]
  }
 ],
 "metadata": {
  "kernelspec": {
   "display_name": ".venv",
   "language": "python",
   "name": "python3"
  },
  "language_info": {
   "codemirror_mode": {
    "name": "ipython",
    "version": 3
   },
   "file_extension": ".py",
   "mimetype": "text/x-python",
   "name": "python",
   "nbconvert_exporter": "python",
   "pygments_lexer": "ipython3",
   "version": "3.9.6"
  }
 },
 "nbformat": 4,
 "nbformat_minor": 2
}
