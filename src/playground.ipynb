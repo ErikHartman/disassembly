{
 "cells": [
  {
   "cell_type": "markdown",
   "metadata": {},
   "source": [
    "# Complexity measure as peaks"
   ]
  },
  {
   "cell_type": "code",
   "execution_count": 14,
   "metadata": {},
   "outputs": [],
   "source": [
    "from disassembly.simulate_proteolysis import enzyme_set, enzyme, amino_acids\n",
    "\n",
    "\n",
    "kr = enzyme_set(\n",
    "    [\n",
    "        enzyme({\"K\": 1}, \"K protease\"),\n",
    "    ],\n",
    "    [1],\n",
    "    [1],\n",
    ")\n",
    "\n",
    "\n",
    "viat = enzyme_set(\n",
    "    [\n",
    "        enzyme({\"V\": 0.35, \"I\": 0.25, \"A\": 0.2, \"T\": 0.1}, \"V+I+A+T protease\"),\n",
    "    ],\n",
    "    [1],\n",
    "    [1],\n",
    ")\n",
    "\n",
    "random = enzyme_set(\n",
    "    [enzyme({aa: 1 / len(amino_acids) for aa in amino_acids.values()}, \"random\")],\n",
    "    [1],\n",
    "    [1],\n",
    ")\n",
    "protein = \"MKAAVLTLAVLFLTGSQARHFWQQDEPPQSPWDRVKDLATVYVDVLKDSGRDYVSQFEGSALGKQLNLKLLDNWDSVTSTFSKLREQLGPVTQEFWDNLEKETEGLRQEMSKDLEEVKAKVQPYLDDFQKKWQEEMELYRQKVEPLRAELQEGARQKLHELQEKLSPLGEEMRDRARAHVDALRTHLAPYSDELRQRLAARLEALKENGGARLAEYHAKATEHLSTLSEKAKPALEDLRQGLLPVLESFKVSFLSALEEYTKKLNTQ\""
   ]
  },
  {
   "cell_type": "code",
   "execution_count": 15,
   "metadata": {},
   "outputs": [
    {
     "name": "stdout",
     "output_type": "stream",
     "text": [
      "Running K, 0\n",
      " 0 / 100 (1)"
     ]
    },
    {
     "name": "stdout",
     "output_type": "stream",
     "text": [
      " 44 / 100 (53)"
     ]
    },
    {
     "name": "stderr",
     "output_type": "stream",
     "text": [
      "/Users/erikhartman/dev/disassembly/src/disassembly/simulate_proteolysis.py:227: RuntimeWarning: invalid value encountered in scalar divide\n",
      "  p / sum(index_to_cut.values()) for p in index_to_cut.values()\n"
     ]
    },
    {
     "name": "stdout",
     "output_type": "stream",
     "text": [
      " 99 / 100 (122)\n",
      "56 unique peptides. 103 total\n",
      "\n",
      " Averaged DI: 1.46\n",
      "Running K, 1\n",
      " 99 / 100 (107)\n",
      "62 unique peptides. 104 total\n",
      "\n",
      " Averaged DI: 1.48\n",
      "Running K, 2\n",
      " 99 / 100 (113)\n",
      "49 unique peptides. 103 total\n",
      "\n",
      " Averaged DI: 1.47\n",
      "Running K, 3\n",
      " 99 / 100 (115)\n",
      "61 unique peptides. 103 total\n",
      "\n",
      " Averaged DI: 1.50\n",
      "Running K, 4\n",
      " 99 / 100 (126)\n",
      "55 unique peptides. 103 total\n",
      "\n",
      " Averaged DI: 1.58\n",
      "Running V+I+A+T, 0\n",
      " 99 / 100 (113)\n",
      "73 unique peptides. 103 total\n",
      "\n",
      " Averaged DI: 1.54\n",
      "Running V+I+A+T, 1\n",
      " 99 / 100 (113)\n",
      "78 unique peptides. 103 total\n",
      "\n",
      " Averaged DI: 1.57\n",
      "Running V+I+A+T, 2\n",
      " 99 / 100 (113)\n",
      "74 unique peptides. 103 total\n",
      "\n",
      " Averaged DI: 1.49\n",
      "Running V+I+A+T, 3\n",
      " 99 / 100 (113)\n",
      "80 unique peptides. 103 total\n",
      "\n",
      " Averaged DI: 1.48\n",
      "Running V+I+A+T, 4\n",
      " 99 / 100 (111)\n",
      "84 unique peptides. 103 total\n",
      "\n",
      " Averaged DI: 1.39\n",
      "Running random, 0\n",
      " 99 / 100 (109)\n",
      "101 unique peptides. 103 total\n",
      "\n",
      " Averaged DI: 1.73\n",
      "Running random, 1\n",
      " 99 / 100 (105)\n",
      "101 unique peptides. 103 total\n",
      "\n",
      " Averaged DI: 1.66\n",
      "Running random, 2\n",
      " 99 / 100 (104)\n",
      "101 unique peptides. 103 total\n",
      "\n",
      " Averaged DI: 1.65\n",
      "Running random, 3\n",
      " 99 / 100 (115)\n",
      "99 unique peptides. 103 total\n",
      "\n",
      " Averaged DI: 1.61\n",
      "Running random, 4\n",
      " 99 / 100 (113)\n",
      "99 unique peptides. 103 total\n",
      "\n",
      " Averaged DI: 1.71\n"
     ]
    }
   ],
   "source": [
    "from disassembly.benchmark import Benchmark\n",
    "\n",
    "n_iterations = 5\n",
    "bmrk = Benchmark()\n",
    "\n",
    "enzyme_sets = [kr, viat, random]\n",
    "enzyme_names = [\"K\", \"V+I+A+T\", \"random\"]\n",
    "\n",
    "bmrk.simulate_degradation(\n",
    "    protein,\n",
    "    enzyme_sets=enzyme_sets,\n",
    "    enzyme_names=enzyme_names,\n",
    "    n_generate=100,\n",
    "    endo_or_exo_probability=[0.9, 0.1],\n",
    "    iterations=n_iterations,\n",
    ")"
   ]
  },
  {
   "cell_type": "code",
   "execution_count": 16,
   "metadata": {},
   "outputs": [],
   "source": [
    "import numpy as np\n",
    "from disassembly.util import KL\n",
    "\n",
    "dct = {\"e\": [], \"i\": [], \"error\": [], \"kl\": [], \"d\": []}\n",
    "for enzyme_name in bmrk.enzyme_names:\n",
    "\n",
    "    for iteration in range(bmrk.iterations):\n",
    "\n",
    "        spaces = np.zeros(len(protein))\n",
    "\n",
    "        for sequence, copy_number in bmrk.simulated_peptidomes[enzyme_name][\n",
    "            iteration\n",
    "        ].items():\n",
    "            start = protein.find(sequence)\n",
    "            end = start + len(sequence)\n",
    "            spaces[start:end] += copy_number\n",
    "\n",
    "        mean = np.mean(spaces)\n",
    "        error = np.sum(np.abs(spaces - mean) ** 2)\n",
    "        kl = KL(np.ones(len(protein)) * mean, spaces)\n",
    "        dct[\"e\"].append(enzyme_name)\n",
    "        dct[\"i\"].append(iteration)\n",
    "        dct[\"error\"].append(error)\n",
    "        dct[\"kl\"].append(kl)\n",
    "        dct[\"d\"].append(bmrk.results[\"real\"][enzyme_name][iteration][\"d\"])"
   ]
  },
  {
   "cell_type": "code",
   "execution_count": 17,
   "metadata": {},
   "outputs": [
    {
     "data": {
      "text/plain": [
       "<Axes: xlabel='kl', ylabel='Density'>"
      ]
     },
     "execution_count": 17,
     "metadata": {},
     "output_type": "execute_result"
    },
    {
     "data": {
      "image/png": "[encoded data removed]",
      "text/plain": [
       "<Figure size 400x300 with 1 Axes>"
      ]
     },
     "metadata": {},
     "output_type": "display_data"
    }
   ],
   "source": [
    "import seaborn as sns\n",
    "import pandas as pd\n",
    "import matplotlib.pyplot as plt\n",
    "\n",
    "dct_df = pd.DataFrame(dct)\n",
    "plt.figure(figsize=(4, 3))\n",
    "sns.kdeplot(dct_df, x=\"kl\", hue=\"e\", bw_adjust=0.5)"
   ]
  },
  {
   "cell_type": "code",
   "execution_count": 18,
   "metadata": {},
   "outputs": [
    {
     "data": {
      "text/plain": [
       "<Axes: xlabel='d', ylabel='Density'>"
      ]
     },
     "execution_count": 18,
     "metadata": {},
     "output_type": "execute_result"
    },
    {
     "data": {
      "image/png": "[encoded data removed]",
      "text/plain": [
       "<Figure size 400x300 with 1 Axes>"
      ]
     },
     "metadata": {},
     "output_type": "display_data"
    }
   ],
   "source": [
    "plt.figure(figsize=(4, 3))\n",
    "sns.kdeplot(dct_df, x=\"d\", hue=\"e\", bw_adjust=0.5)"
   ]
  },
  {
   "cell_type": "code",
   "execution_count": 19,
   "metadata": {},
   "outputs": [
    {
     "data": {
      "text/plain": [
       "Text(0.5, 1.0, 'n_generate=1000')"
      ]
     },
     "execution_count": 19,
     "metadata": {},
     "output_type": "execute_result"
    },
    {
     "data": {
      "image/png": "[encoded data removed]",
      "text/plain": [
       "<Figure size 300x300 with 1 Axes>"
      ]
     },
     "metadata": {},
     "output_type": "display_data"
    }
   ],
   "source": [
    "plt.figure(figsize=(3, 3))\n",
    "sns.scatterplot(dct_df, x=\"d\", y=\"kl\", hue=\"e\")\n",
    "plt.title(\"n_generate=1000\")"
   ]
  },
  {
   "cell_type": "markdown",
   "metadata": {},
   "source": [
    "# Regex enzyme"
   ]
  },
  {
   "cell_type": "code",
   "execution_count": 1,
   "metadata": {},
   "outputs": [
    {
     "name": "stdout",
     "output_type": "stream",
     "text": [
      " 498 / 500 (426)\n",
      "88 unique peptides. 510 total\n",
      " 499 / 500 (594)\n",
      "73 unique peptides. 510 total\n",
      " 499 / 500 (675)\n",
      "166 unique peptides. 510 total\n",
      " 499 / 500 (628)\n",
      "133 unique peptides. 510 total\n"
     ]
    },
    {
     "data": {
      "text/plain": [
       "['MVHLTPEEKSAVTALWGKVNVDEVGGEALGRLLVVYPWTQRFFESFGDLSTPDAVMGNPKKAHGKKVLGAFSDGLAHLDNLKGTFATLSELHCDKLHVDPENFRLLGNVLVCVLAHHFGKEFTPPVQAAYQKVVAGVANALAHKYH',\n",
       " 'METQRASLCLGRWSLWLLLLGLVVPSASAQALSYREAVLRAVDRLNEQSSEANLYRLLELDQPPKADEDPGTPKPVSFTVKETVCPRPTRQPPELCDFKENGRVKQCVGTVTLNPSIHSLDISCNEIQSVRRRPRPPYLPRPRPPPFFPPRLPPRIPPGFPPRFPPRFPGKR',\n",
       " 'MAHVRGLQLPGCLALAALCSLVHSQHVFLAPQQARSLLQRVRRANTFLEEVRKGNLERECVEETCSYEEAFEALESSTATDVFWAKYTACETARTPRDKLAACLEGNCAEGLGTNYRGHVNITRSGIECQLWRSRYPHKPEINSTTHPGADLQENFCRNPDSSTTGPWCYTTDPTVRRQECSIPVCGQDQVTVAMTPRSEGSSVNLSPPLEQCVPDRGQQYQGRLAVTTHGLPCLAWASAQAKALSKHQDFNSAVQLVENFCRNPDGDEEGVWCYVAGKPGDFGYCDLNYCEEAVEEETGDGLDEDSDRAIEGRTATSEYQTFFNPRTFGSGEADCGLRPLFEKKSLEDKTERELLESYIDGRIVEGSDAEIGMSPWQVMLFRKSPQELLCGASLISDRWVLTAAHCLLYPPWDKNFTENDLLVRIGKHSRTRYERNIEKISMLEKIYIHPRYNWRENLDRDIALMKLKKPVAFSDYIHPVCLPDRETAASLLQAGYKGRVTGWGNLKETWTANVGKGQPSVLQVVNLPIVERPVCKDSTRIRITDNMFCAGYKPDEGKRGDACEGDSGGPFVMKSPFNNRWYQMGIVSWGEGCDRDGKYGFYTHVFRLKKWIQKVIDQFGE',\n",
       " 'MDDDIAALVVDNGSGMCKAGFAGDDAPRAVFPSIVGRPRHQGVMVGMGQKDSYVGDEAQSKRGILTLKYPIEHGIVTNWDDMEKIWHHTFYNELRVAPEEHPVLLTEAPLNPKANREKMTQIMFETFNTPAMYVAIQAVLSLYASGRTTGIVMDSGDGVTHTVPIYEGYALPHAILRLDLAGRDLTDYLMKILTERGYSFTTTAEREIVRDIKEKLCYVALDFEQEMATAASSSSLEKSYELPDGQVITIGNERFRCPEALFQPSFLGMESCGIHETTFNSIMKCDVDIRKDLYANTVLSGGTTMYPGIADRMQKEITALAPSTMKIKIIAPPERKYSVWIGGSILASLSTFQQMWISKQEYDESGPSIVHRKCF']"
      ]
     },
     "execution_count": 1,
     "metadata": {},
     "output_type": "execute_result"
    }
   ],
   "source": [
    "from disassembly.simulate_proteolysis_regex import ProteolysisSimulator, Enzyme\n",
    "\n",
    "ps = ProteolysisSimulator()\n",
    "hbb = \"MVHLTPEEKSAVTALWGKVNVDEVGGEALGRLLVVYPWTQRFFESFGDLSTPDAVMGNPKKAHGKKVLGAFSDGLAHLDNLKGTFATLSELHCDKLHVDPENFRLLGNVLVCVLAHHFGKEFTPPVQAAYQKVVAGVANALAHKYH\"\n",
    "pr39 = \"METQRASLCLGRWSLWLLLLGLVVPSASAQALSYREAVLRAVDRLNEQSSEANLYRLLELDQPPKADEDPGTPKPVSFTVKETVCPRPTRQPPELCDFKENGRVKQCVGTVTLNPSIHSLDISCNEIQSVRRRPRPPYLPRPRPPPFFPPRLPPRIPPGFPPRFPPRFPGKR\"\n",
    "thrb = \"MAHVRGLQLPGCLALAALCSLVHSQHVFLAPQQARSLLQRVRRANTFLEEVRKGNLERECVEETCSYEEAFEALESSTATDVFWAKYTACETARTPRDKLAACLEGNCAEGLGTNYRGHVNITRSGIECQLWRSRYPHKPEINSTTHPGADLQENFCRNPDSSTTGPWCYTTDPTVRRQECSIPVCGQDQVTVAMTPRSEGSSVNLSPPLEQCVPDRGQQYQGRLAVTTHGLPCLAWASAQAKALSKHQDFNSAVQLVENFCRNPDGDEEGVWCYVAGKPGDFGYCDLNYCEEAVEEETGDGLDEDSDRAIEGRTATSEYQTFFNPRTFGSGEADCGLRPLFEKKSLEDKTERELLESYIDGRIVEGSDAEIGMSPWQVMLFRKSPQELLCGASLISDRWVLTAAHCLLYPPWDKNFTENDLLVRIGKHSRTRYERNIEKISMLEKIYIHPRYNWRENLDRDIALMKLKKPVAFSDYIHPVCLPDRETAASLLQAGYKGRVTGWGNLKETWTANVGKGQPSVLQVVNLPIVERPVCKDSTRIRITDNMFCAGYKPDEGKRGDACEGDSGGPFVMKSPFNNRWYQMGIVSWGEGCDRDGKYGFYTHVFRLKKWIQKVIDQFGE\"\n",
    "actb = \"MDDDIAALVVDNGSGMCKAGFAGDDAPRAVFPSIVGRPRHQGVMVGMGQKDSYVGDEAQSKRGILTLKYPIEHGIVTNWDDMEKIWHHTFYNELRVAPEEHPVLLTEAPLNPKANREKMTQIMFETFNTPAMYVAIQAVLSLYASGRTTGIVMDSGDGVTHTVPIYEGYALPHAILRLDLAGRDLTDYLMKILTERGYSFTTTAEREIVRDIKEKLCYVALDFEQEMATAASSSSLEKSYELPDGQVITIGNERFRCPEALFQPSFLGMESCGIHETTFNSIMKCDVDIRKDLYANTVLSGGTTMYPGIADRMQKEITALAPSTMKIKIIAPPERKYSVWIGGSILASLSTFQQMWISKQEYDESGPSIVHRKCF\"\n",
    "\n",
    "protein_sequences = []\n",
    "true_distributions = []\n",
    "for seq in [hbb, pr39, thrb, actb]:\n",
    "    true_distribution = ps.simulate_proteolysis(seq, n_generate=500, graph=False)\n",
    "    protein_sequences.append(seq)\n",
    "    true_distributions.append(true_distribution)\n",
    "protein_sequences"
   ]
  },
  {
   "cell_type": "markdown",
   "metadata": {},
   "source": [
    "# Genetic algorithm to get cleavage spec"
   ]
  },
  {
   "cell_type": "code",
   "execution_count": 2,
   "metadata": {},
   "outputs": [
    {
     "name": "stdout",
     "output_type": "stream",
     "text": [
      "N Kill  10\n",
      "13:(.)(.)([K])(.)(.)(.) 1  1.183945021755051\n",
      "26:(.)(.)([K])(.)(.)(.) 1  2.1135496231527044\n",
      "31:(.)(.)([R])(.)(.)(.) 1  1.9573127811400028\n",
      "26:(.)(.)([K])(.)(.)(.) 1  2.2373054726700086\n",
      "63:(.)(.)([K])(.)(.)(.) 1 (.)([^T])([R])(.)(.)(.) 1  0.9420851452481026\n"
     ]
    }
   ],
   "source": [
    "from disassembly.simulate_proteolysis_regex import Enzyme\n",
    "from disassembly.util import amino_acids, normalize_dict, KL\n",
    "import random\n",
    "import math\n",
    "import pandas as pd\n",
    "import numpy as np\n",
    "import re\n",
    "import logomaker\n",
    "\n",
    "amino_acids = list(amino_acids.values())\n",
    "\n",
    "\n",
    "class Individual:\n",
    "    \"\"\"\n",
    "    Class that represents an individual\n",
    "    Has checks to assure that the regex doesn't break any rules\n",
    "    \"\"\"\n",
    "    id = 0\n",
    "\n",
    "    def __init__(self, rules: list = None) -> None:\n",
    "        self.rules = rules\n",
    "        Individual.id += 1\n",
    "        self.id = Individual.id\n",
    "\n",
    "    def get_length_of_match(self):\n",
    "        return len(self.split())\n",
    "\n",
    "    def split(self):\n",
    "        list_of_components = []\n",
    "        for rule, amount in self.rules:\n",
    "            components = []\n",
    "            for i, char in enumerate(rule):\n",
    "                if char == \"(\":\n",
    "                    k = i\n",
    "                if char == \")\":\n",
    "                    components.append(rule[k + 1 : i])\n",
    "            list_of_components.append((components, amount))\n",
    "        return list_of_components\n",
    "\n",
    "    def compile(self, list_of_operators):\n",
    "        rule = \"\"\n",
    "        for operator in list_of_operators:\n",
    "            rule += f\"({operator})\"\n",
    "        try:\n",
    "            re.compile(rule)\n",
    "        except re.error:\n",
    "            print(rule, \" is not a valid regex pattern\")\n",
    "        return rule\n",
    "\n",
    "    def mutate_rule(self):\n",
    "        rule_index = random.randint(0, len(self.rules) - 1)\n",
    "        position = random.randint(0, 5)  # index to mutate\n",
    "        add_or_delete = random.choice([\"add\", \"delete\"])\n",
    "        type = random.choice([\"inclusion\", \"exclusion\"])\n",
    "        list_of_operators, amount = self.split()[rule_index]\n",
    "        operator: str = list_of_operators[position]\n",
    "\n",
    "        if operator == \".\":\n",
    "            add_or_delete = \"add\"\n",
    "        aa = random.choice(amino_acids)\n",
    "\n",
    "        if aa in operator:\n",
    "            add_or_delete = \"delete\"\n",
    "\n",
    "        if add_or_delete == \"add\":\n",
    "\n",
    "            if type == \"inclusion\":\n",
    "\n",
    "                if operator == \".\":\n",
    "                    new_operator = f\"[{aa}]\"\n",
    "                else:\n",
    "                    if \"^\" in operator:\n",
    "                        new_operator = (\n",
    "                            \"[\"\n",
    "                            + operator.removeprefix(\"[^\").removesuffix(\"]\")\n",
    "                            + f\"|{aa}]\"\n",
    "                        )\n",
    "                    else:\n",
    "                        new_operator = (\n",
    "                            \"[\"\n",
    "                            + operator.removeprefix(\"[\").removesuffix(\"]\")\n",
    "                            + f\"|{aa}]\"\n",
    "                        )\n",
    "\n",
    "            elif type == \"exclusion\":\n",
    "\n",
    "                if operator == \".\":\n",
    "                    new_operator = f\"[^{aa}]\"\n",
    "                else:\n",
    "                    if \"^\" in operator:\n",
    "                        new_operator = (\n",
    "                            \"[\"\n",
    "                            + operator.removeprefix(\"[\").removesuffix(\"]\")\n",
    "                            + f\"|{aa}]\"\n",
    "                        )\n",
    "                    else:\n",
    "                        new_operator = (\n",
    "                            \"[^\"\n",
    "                            + operator.removeprefix(\"[\").removesuffix(\"]\")\n",
    "                            + f\"|{aa}]\"\n",
    "                        )\n",
    "\n",
    "        elif add_or_delete == \"delete\":\n",
    "            if operator == \".\":\n",
    "\n",
    "                new_rule = self.compile(list_of_operators)\n",
    "                self.rules[rule_index] = new_rule\n",
    "                return\n",
    "\n",
    "            ops = operator.split(\"|\")\n",
    "            if len(ops) == 1:\n",
    "                new_operator = \".\"\n",
    "            else:\n",
    "                n_ops = len(ops)\n",
    "                i_del = random.randint(0, n_ops - 1)\n",
    "                ops.remove(ops[i_del])\n",
    "                new_operator = \"|\".join(ops)\n",
    "                new_operator = (\n",
    "                    \"[\" + new_operator.removeprefix(\"[\").removesuffix(\"]\") + \"]\"\n",
    "                )\n",
    "\n",
    "        list_of_operators[position] = new_operator\n",
    "        new_rule = self.compile(list_of_operators)\n",
    "        self.rules[rule_index] = (new_rule, amount)\n",
    "\n",
    "    def mutate_amount(self, rule):\n",
    "        regex, amount = rule\n",
    "        self.rules.remove(rule)\n",
    "        add_or_dec = random.choice([\"add\", \"dec\"])\n",
    "        if add_or_dec == \"add\":\n",
    "            amount += 1\n",
    "        else:\n",
    "            amount -= 1\n",
    "        if amount > 0:\n",
    "            self.rules.append((regex, amount))\n",
    "        elif len(self.rules) == 0:\n",
    "            self.rules.append((\"(.)(.)(.)(.)(.)(.)\", 1))\n",
    "\n",
    "    def __repr__(self) -> str:\n",
    "        s = str(self.id) + \":\"\n",
    "        for rule, amount in self.rules:\n",
    "            s +=  rule + \" \" + str(amount) + \" \"\n",
    "        return s\n",
    "\n",
    "\n",
    "class ParameterEstimatorGA:\n",
    "    def __init__(\n",
    "        self,\n",
    "        true_distributions: list,\n",
    "        protein_sequences: list,\n",
    "        mutation_rate: float = 0.1,\n",
    "        n_individuals: int = 10,\n",
    "        pattern_len: int = 6,\n",
    "        kill_fraction: int = 0.5,\n",
    "        n_generate: int = 200,\n",
    "        length_penalty: float = 0.1,\n",
    "    ) -> None:\n",
    "        \"\"\"\n",
    "        Initiate a random population\n",
    "        \"\"\"\n",
    "        self.true_distributions = [\n",
    "            normalize_dict(true_distribution)\n",
    "            for true_distribution in true_distributions\n",
    "        ]\n",
    "        self.mutation_rate = mutation_rate\n",
    "        self.n_individuals = n_individuals\n",
    "        self.protein_sequences = protein_sequences\n",
    "        self.pattern_len = pattern_len\n",
    "        self.n_generate = n_generate\n",
    "        self.n_kill = math.floor(kill_fraction * n_individuals)\n",
    "        print(\"N Kill \", self.n_kill)\n",
    "\n",
    "        self.length_penalty = length_penalty\n",
    "        self.ps = ProteolysisSimulator(verbose=False)\n",
    "\n",
    "        self.population = {}  # dict of Enzyme:fitness\n",
    "        for n_ind in range(n_individuals):\n",
    "            ind_regex = self._initialize_aminoacids(\n",
    "                n_ind\n",
    "            )  # self._generate_random_regex()\n",
    "            individual = Individual([(ind_regex, 1)])\n",
    "            self.population[individual] = 0  # fitness\n",
    "\n",
    "        self.evaluate_fitness(0)\n",
    "\n",
    "    def run(self, n_generations: int = 10):\n",
    "        \"\"\"\n",
    "        Main run-method\n",
    "        \"\"\"\n",
    "        self.all_results = {}\n",
    "        self.best_ever = None\n",
    "        self.best_ever_fitness = 10e3\n",
    "        self.fitness = {}\n",
    "        self.fitness[-1] = list(self.population.values())\n",
    "        \n",
    "        for generation in range(n_generations):\n",
    "            self.kill_reproduce()\n",
    "            self.mutate()\n",
    "            self.evaluate_fitness(generation)\n",
    "\n",
    "            for individual, fitness in self.population.items():\n",
    "                self.all_results[individual] = fitness\n",
    "\n",
    "            best_individual = list(self.population.keys())[0]\n",
    "            best_fitness = self.population[best_individual]\n",
    "\n",
    "            if best_fitness < self.best_ever_fitness:\n",
    "                self.best_ever = best_individual\n",
    "                self.best_ever_fitness = best_fitness\n",
    "\n",
    "            print(best_individual, best_fitness)\n",
    "\n",
    "            self.fitness[generation] = list(self.population.values())\n",
    "\n",
    "    def evaluate_fitness(self, generation):\n",
    "        \"\"\"\n",
    "        Evaluate fitness of individuals:\n",
    "\n",
    "        - simulate proteolysis with given rules (individuals)\n",
    "        - Compute similarity to true distribution\n",
    "        \"\"\"\n",
    "        n_protein_sequences = len(self.protein_sequences)\n",
    "        protein_sequence = self.protein_sequences[generation % n_protein_sequences]\n",
    "        true_distribution = self.true_distributions[generation % n_protein_sequences]\n",
    "        for individual in self.population.keys():\n",
    "            e = Enzyme(name=\"_\", cleavage_rules=individual.rules)\n",
    "            t_hat = self.ps.simulate_proteolysis(\n",
    "                protein_sequence,\n",
    "                enzyme=e,\n",
    "                n_generate=self.n_generate,\n",
    "                graph=False,\n",
    "                length_params=\"vitro\",\n",
    "            )\n",
    "            penalty = self.length_penalty * sum(\n",
    "                [len(re.findall(\"[A-Z]\", rule)) for rule, _ in individual.rules]\n",
    "            )\n",
    "            t_hat = normalize_dict(t_hat)\n",
    "            t1, t2 = self._make_comparable(t_hat, true_distribution)\n",
    "            loss = (\n",
    "                (KL(t1, t2) + KL(t2, t1)) / KL(np.ones(len(t1)) / len(t1), t1)\n",
    "            ) + penalty\n",
    "            self.population[individual] = loss\n",
    "\n",
    "        self.population = {\n",
    "            k: v for k, v in sorted(self.population.items(), key=lambda item: item[1])\n",
    "        }\n",
    "\n",
    "    def kill_reproduce(self):\n",
    "        \"\"\"\n",
    "        Combine kill and reroduce into one method\n",
    "        \"\"\"\n",
    "        keys = list(self.population.keys())\n",
    "        not_kill = keys[: self.n_individuals - self.n_kill]\n",
    "        kill = keys[self.n_individuals - self.n_kill :]\n",
    "\n",
    "        for key in kill:\n",
    "            self.population.pop(key)  # kill individual\n",
    "            parents = random.choices(not_kill, k=2)\n",
    "            offspring = self.mate(parents[0], parents[1])  # reproduce\n",
    "            self.population[offspring] = 0\n",
    "\n",
    "    def mate(self, ind1: Individual, ind2: Individual):\n",
    "        \"\"\"\n",
    "        Pair 2 individuals to create a new\n",
    "        \"\"\"\n",
    "        offspring_rules = ind1.rules + ind2.rules\n",
    "        offspring = Individual(offspring_rules)\n",
    "        return offspring\n",
    "\n",
    "    def mutate(self):\n",
    "        \"\"\"\n",
    "        Mutates individuals randomly\n",
    "        \"\"\"\n",
    "        keys = list(self.population.keys())\n",
    "        for individual in keys[3:]:  # elitism\n",
    "            individual: Individual\n",
    "            u = random.random()\n",
    "            if u <= self.mutation_rate:\n",
    "                self.population.pop(individual)\n",
    "                individual.mutate_rule()\n",
    "                self.population[individual] = 0\n",
    "\n",
    "        for individual in keys[3:]:\n",
    "            for rule in individual.rules:\n",
    "                u = random.random()\n",
    "                if u <= self.mutation_rate:\n",
    "                    self.population.pop(individual)\n",
    "                    individual.mutate_amount(rule)\n",
    "                    self.population[individual] = 0\n",
    "\n",
    "    def _initialize_aminoacids(self, i):\n",
    "        n_amino_acids = len(amino_acids)\n",
    "        i = i % n_amino_acids\n",
    "        aa = amino_acids[i]\n",
    "        return f\"(.)(.)([{aa}])(.)(.)(.)\"\n",
    "\n",
    "    def _make_comparable(self, t1, t2):\n",
    "        \"\"\"\n",
    "        Aligns two dicts and outputs the aligned value-vectors\n",
    "        \"\"\"\n",
    "        t1_vec = []\n",
    "        t2_vec = []\n",
    "        for key in t1.keys():\n",
    "            t1_vec.append(t1[key])\n",
    "            if key in t2.keys():\n",
    "                t2_vec.append(t2[key])\n",
    "            else:\n",
    "                t2_vec.append(0)\n",
    "        for key in t2.keys():\n",
    "            if key not in t1.keys():\n",
    "                t1_vec.append(0)\n",
    "                t2_vec.append(t2[key])\n",
    "        return t1_vec, t2_vec\n",
    "\n",
    "    def plot(self, topn : int = 10):\n",
    "        d = {}\n",
    "        top_population = {\n",
    "            k: v for k, v in sorted(self.all_results.items(), key=lambda item: item[1])[0:topn]\n",
    "        }\n",
    "        for pos in range(self.pattern_len):\n",
    "            d[pos] = {}\n",
    "            for aa in amino_acids:\n",
    "                d[pos][aa] = 0\n",
    "\n",
    "        max_fitness = max(top_population.values())\n",
    "        for seqs, fitness in top_population.items():\n",
    "            seqs = seqs.split()\n",
    "            \n",
    "            for seq, amount in seqs:\n",
    "                for pos in range(len(seq)):\n",
    "                    if seq[pos].startswith(\"[^\"):\n",
    "                        s = seq[pos].removeprefix(\"[^\").removesuffix(\"]\")\n",
    "                        s = s.split(\"|\")\n",
    "                        for aa in s:\n",
    "                            d[pos][aa] -= amount * abs(fitness - max_fitness)\n",
    "                    elif seq[pos].startswith(\"[\"):\n",
    "                        s = seq[pos].removeprefix(\"[\").removesuffix(\"]\")\n",
    "                        s = s.split(\"|\")\n",
    "                        for aa in s:\n",
    "                            d[pos][aa] += amount * abs(fitness - max_fitness)\n",
    "        df = pd.DataFrame(d).T\n",
    "        df = df.apply(abs)\n",
    "        row_sums = df.sum(axis=1) + 1e-5\n",
    "        df = df.div(row_sums, axis=0)\n",
    "        ginis = []\n",
    "        for _, row in df.iterrows():\n",
    "            gini = np.sum(row**2)\n",
    "            ginis.append(gini)\n",
    "        df = pd.DataFrame(d).T.mul(ginis, axis=0)\n",
    "        logomaker.Logo(df, fade_below=0.75)\n",
    "\n",
    "\n",
    "pega = ParameterEstimatorGA(\n",
    "    true_distributions,\n",
    "    protein_sequences,\n",
    "    n_individuals=20,\n",
    "    mutation_rate=0.5,\n",
    "    kill_fraction=0.5,\n",
    "    n_generate=200,\n",
    "    length_penalty=0.1,\n",
    ")\n",
    "\n",
    "pega.run(n_generations=5)"
   ]
  },
  {
   "cell_type": "code",
   "execution_count": 3,
   "metadata": {},
   "outputs": [
    {
     "data": {
      "image/png": "[encoded data removed]",
      "text/plain": [
       "<Figure size 1000x250 with 1 Axes>"
      ]
     },
     "metadata": {},
     "output_type": "display_data"
    }
   ],
   "source": [
    "pega.plot(topn=5)"
   ]
  },
  {
   "cell_type": "code",
   "execution_count": 200,
   "metadata": {},
   "outputs": [
    {
     "data": {
      "text/plain": [
       "<Axes: xlabel='level_0', ylabel='0'>"
      ]
     },
     "execution_count": 200,
     "metadata": {},
     "output_type": "execute_result"
    },
    {
     "data": {
      "image/png": "[encoded data removed]",
      "text/plain": [
       "<Figure size 640x480 with 1 Axes>"
      ]
     },
     "metadata": {},
     "output_type": "display_data"
    }
   ],
   "source": [
    "import pandas as pd\n",
    "import seaborn as sns\n",
    "\n",
    "sns.lineplot(pd.DataFrame(pega.fitness).T.stack().reset_index(), x=\"level_0\", y=0)\n",
    "sns.scatterplot(pd.DataFrame(pega.fitness).T.stack().reset_index(), x=\"level_0\", y=0, color=\"lightgray\")"
   ]
  }
 ],
 "metadata": {
  "kernelspec": {
   "display_name": ".venv",
   "language": "python",
   "name": "python3"
  },
  "language_info": {
   "codemirror_mode": {
    "name": "ipython",
    "version": 3
   },
   "file_extension": ".py",
   "mimetype": "text/x-python",
   "name": "python",
   "nbconvert_exporter": "python",
   "pygments_lexer": "ipython3",
   "version": "3.9.6"
  }
 },
 "nbformat": 4,
 "nbformat_minor": 2
}
