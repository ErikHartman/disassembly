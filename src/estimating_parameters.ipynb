{
 "cells": [
  {
   "cell_type": "code",
   "execution_count": 1,
   "metadata": {},
   "outputs": [],
   "source": [
    "protein = \"MAHVRGLQLPGCLALAALCSLVHSQHVFLAPQQARSLLQRVRRANTFLEEVRKGNLERECVEETCSYEEAFEALESSTATDVFWAKYTACETARTPRDKLAACLEGNCAEGLGTNYRGHVNITRSGIECQLWRSRYPHKPEINSTTHPGADLQENFCRNPDSSTTGPWCYTTDPTVRRQECSIPVCGQDQVTVAMTPRSEGSSVNLSPPLEQCVPDRGQQYQGRLAVTTHGLPCLAWASAQAKALSKHQDFNSAVQLVENFCRNPDGDEEGVWCYVAGKPGDFGYCDLNYCEEAVEEETGDGLDEDSDRAIEGRTATSEYQTFFNPRTFGSGEADCGLRPLFEKKSLEDKTERELLESYIDGRIVEGSDAEIGMSPWQVMLFRKSPQELLCGASLISDRWVLTAAHCLLYPPWDKNFTENDLLVRIGKHSRTRYERNIEKISMLEKIYIHPRYNWRENLDRDIALMKLKKPVAFSDYIHPVCLPDRETAASLLQAGYKGRVTGWGNLKETWTANVGKGQPSVLQVVNLPIVERPVCKDSTRIRITDNMFCAGYKPDEGKRGDACEGDSGGPFVMKSPFNNRWYQMGIVSWGEGCDRDGKYGFYTHVFRLKKWIQKVIDQFGE\"\n",
    "from disassembly.simulate_proteolysis import simulate_proteolysis, enzyme_set, enzyme\n",
    "\n",
    "n_generate= 500\n",
    "\n",
    "k_enzymes = enzyme_set(\n",
    "    [\n",
    "        enzyme({\"K\": 1}, \"protease_iv\"),\n",
    "        enzyme({\"K\": 0.5, \"R\": 0.5}, \"trypsin\"),\n",
    "        enzyme({\"V\": 0.5, \"I\": 0.25, \"A\": 0.15, \"T\": 0.1}, \"elne\"),\n",
    "    ],\n",
    "    [1, 0, 0],  # activities\n",
    "    [1, 0, 0],  # abundances\n",
    ")\n",
    "\n",
    "kr_enzymes = enzyme_set(\n",
    "    [\n",
    "        enzyme({\"K\": 1}, \"protease_iv\"),\n",
    "        enzyme({\"K\": 0.5, \"R\": 0.5}, \"trypsin\"),\n",
    "        enzyme({\"V\": 0.5, \"I\": 0.25, \"A\": 0.15, \"T\": 0.1}, \"elne\"),\n",
    "    ],\n",
    "    [0, 1, 0],  # activities\n",
    "    [0, 1, 0],  # abundances\n",
    ")\n",
    "\n",
    "viat_enzymes = enzyme_set(\n",
    "    [\n",
    "        enzyme({\"K\": 1}, \"protease_iv\"),\n",
    "        enzyme({\"K\": 0.5, \"R\": 0.5}, \"trypsin\"),\n",
    "        enzyme({\"V\": 0.5, \"I\": 0.25, \"A\": 0.15, \"T\": 0.1}, \"elne\"),\n",
    "    ],\n",
    "    [0, 0, 1],  # activities\n",
    "    [0, 0, 1],  # abundances\n",
    ")"
   ]
  },
  {
   "cell_type": "code",
   "execution_count": 2,
   "metadata": {},
   "outputs": [
    {
     "name": "stdout",
     "output_type": "stream",
     "text": [
      " 499 / 500 (2606)\n",
      "118 unique peptides. 501 total\n",
      " 499 / 500 (3678)\n",
      "104 unique peptides. 501 total\n",
      " 499 / 500 (2418)\n",
      "98 unique peptides. 501 total\n",
      " 499 / 500 (2145)\n",
      "88 unique peptides. 501 total\n",
      " 499 / 500 (4308)\n",
      "132 unique peptides. 501 total\n",
      " 499 / 500 (3636)\n",
      "105 unique peptides. 501 total\n",
      " 499 / 500 (1584)\n",
      "94 unique peptides. 501 total\n",
      " 499 / 500 (2184)\n",
      "96 unique peptides. 501 total\n",
      " 499 / 500 (2586)\n",
      "116 unique peptides. 501 total\n",
      " 499 / 500 (2151)\n",
      "95 unique peptides. 501 total\n",
      " 499 / 500 (1530)\n",
      "155 unique peptides. 501 total\n",
      " 499 / 500 (2336)\n",
      "194 unique peptides. 501 total\n",
      " 499 / 500 (2952)\n",
      "101 unique peptides. 501 total\n",
      " 499 / 500 (2142)\n",
      "196 unique peptides. 501 total\n",
      " 499 / 500 (2445)\n",
      "179 unique peptides. 501 total\n",
      " 499 / 500 (2520)\n",
      "159 unique peptides. 501 total\n",
      " 499 / 500 (3054)\n",
      "215 unique peptides. 501 total\n",
      " 499 / 500 (2618)\n",
      "203 unique peptides. 501 total\n",
      " 499 / 500 (2662)\n",
      "222 unique peptides. 501 total\n",
      " 499 / 500 (2407)\n",
      "223 unique peptides. 501 total\n",
      " 499 / 500 (3451)\n",
      "285 unique peptides. 501 total\n",
      " 499 / 500 (2917)\n",
      "243 unique peptides. 501 total\n",
      " 499 / 500 (2797)\n",
      "247 unique peptides. 501 total\n",
      " 499 / 500 (3335)\n",
      "278 unique peptides. 501 total\n",
      " 499 / 500 (2669)\n",
      "255 unique peptides. 501 total\n",
      " 499 / 500 (3842)\n",
      "264 unique peptides. 501 total\n",
      " 499 / 500 (2400)\n",
      "209 unique peptides. 501 total\n",
      " 499 / 500 (2293)\n",
      "254 unique peptides. 501 total\n",
      " 499 / 500 (3508)\n",
      "276 unique peptides. 501 total\n",
      " 499 / 500 (2676)\n",
      "224 unique peptides. 502 total\n"
     ]
    }
   ],
   "source": [
    "generated_peptidomes = {\"name\": [], \"peptidome\": []}\n",
    "\n",
    "names = [\"k\", \"kr\", \"viat\"]\n",
    "\n",
    "i = 0\n",
    "for enz, name in zip([k_enzymes, kr_enzymes, viat_enzymes], names):\n",
    "    for i in range(10):\n",
    "        generated_peptidome, _ = simulate_proteolysis(\n",
    "            protein,\n",
    "            n_start=1,\n",
    "            n_generate=n_generate,\n",
    "            endo_or_exo_probability=[0.9, 0.1],\n",
    "            enzymes=enz,\n",
    "        )\n",
    "        generated_peptidomes[\"name\"].append(f\"{name}_{i}\")\n",
    "        generated_peptidomes[\"peptidome\"].append(generated_peptidome)"
   ]
  },
  {
   "cell_type": "code",
   "execution_count": 3,
   "metadata": {},
   "outputs": [],
   "source": [
    "from disassembly.util import KL, normalize_dict\n",
    "\n",
    "\n",
    "def compare(P, generated):\n",
    "    P = normalize_dict(P)\n",
    "    generated = normalize_dict(generated)\n",
    "    P_vec = []\n",
    "    generated_vec = []\n",
    "    for key in P.keys():\n",
    "        P_vec.append(P[key])\n",
    "        if key in generated.keys():\n",
    "            generated_vec.append(generated[key])\n",
    "        else:\n",
    "            generated_vec.append(0)\n",
    "    for key in generated.keys():\n",
    "        if key not in P.keys():\n",
    "            P_vec.append(0)\n",
    "            generated_vec.append(generated[key])\n",
    "    return P_vec, generated_vec\n",
    "\n",
    "\n",
    "comparisons = {}\n",
    "for i in range(len(generated_peptidomes[\"peptidome\"])):\n",
    "    name_comp_1 = generated_peptidomes[\"name\"][i]\n",
    "    peptidome_comp_1 = generated_peptidomes[\"peptidome\"][i]\n",
    "    comparisons[name_comp_1] = {}\n",
    "    for j in range(len(generated_peptidomes[\"peptidome\"])):\n",
    "        name_comp_2 = generated_peptidomes[\"name\"][j]\n",
    "        peptidome_comp_2 = generated_peptidomes[\"peptidome\"][j]\n",
    "        p, q = compare(peptidome_comp_1, peptidome_comp_2)\n",
    "        kl = KL(p, q)\n",
    "        comparisons[name_comp_1][name_comp_2] = kl\n",
    "\n",
    "import pandas as pd\n",
    "\n",
    "comps_df = pd.DataFrame(comparisons)"
   ]
  },
  {
   "cell_type": "code",
   "execution_count": 4,
   "metadata": {},
   "outputs": [
    {
     "data": {
      "text/plain": [
       "<Axes: >"
      ]
     },
     "execution_count": 4,
     "metadata": {},
     "output_type": "execute_result"
    },
    {
     "data": {
      "image/png": "[encoded data removed]",
      "text/plain": [
       "<Figure size 640x480 with 2 Axes>"
      ]
     },
     "metadata": {},
     "output_type": "display_data"
    }
   ],
   "source": [
    "import seaborn as sns\n",
    "\n",
    "sns.heatmap(comps_df)"
   ]
  },
  {
   "cell_type": "code",
   "execution_count": 10,
   "metadata": {},
   "outputs": [],
   "source": [
    "from disassembly.util import amino_acids\n",
    "\n",
    "# initialize \n",
    "\n",
    "exo = 0.25\n",
    "parameters = {\n",
    "    \"endo\": {aa: 1 / len(amino_acids.values()) for aa in amino_acids.values()},\n",
    "    \"exo\": exo,\n",
    "    \"stop\": 0.5,\n",
    "}  # endo is dict of aa at p1\n"
   ]
  },
  {
   "cell_type": "code",
   "execution_count": 6,
   "metadata": {},
   "outputs": [
    {
     "name": "stdout",
     "output_type": "stream",
     "text": [
      " 499 / 500 (2388)\n",
      "115 unique peptides. 501 total\n"
     ]
    }
   ],
   "source": [
    "from disassembly.simulate_proteolysis import simulate_proteolysis, enzyme_set, enzyme\n",
    "\n",
    "# Say we want to estimate parameters for K enzyme.\n",
    "enzymes = enzyme_set(\n",
    "    [\n",
    "        enzyme({\"K\": 1}, \"protease_iv\"),\n",
    "        enzyme({\"K\": 0.5, \"R\": 0.5}, \"trypsin\"),\n",
    "        enzyme({\"V\": 0.5, \"I\": 0.25, \"A\": 0.15, \"T\": 0.1}, \"elne\"),\n",
    "    ],\n",
    "    [1, 0, 0],  # activities\n",
    "    [1, 0, 0],  # abundances\n",
    ")\n",
    "\n",
    "\n",
    "true_dict, sequence_graph = simulate_proteolysis(\n",
    "    protein,\n",
    "    n_start=1,\n",
    "    n_generate=n_generate,\n",
    "    endo_or_exo_probability=[0.9, 0.1],\n",
    "    enzymes=enzymes,\n",
    ")"
   ]
  },
  {
   "cell_type": "code",
   "execution_count": 7,
   "metadata": {},
   "outputs": [],
   "source": [
    "from disassembly.util import normalize_dict\n",
    "def generate_guess(parameters, protein):\n",
    "    \"\"\"\n",
    "    Generates a guess from parameters\n",
    "    \"\"\"\n",
    "    for aa in parameters[\"endo\"]:\n",
    "        parameters[\"endo\"][aa] = max(0, parameters[\"endo\"][aa])\n",
    "    parameters[\"exo\"] = max(0, parameters[\"exo\"])\n",
    "    parameters[\"endo\"] = normalize_dict(parameters[\"endo\"])\n",
    "    parameter_enzyme = enzyme_set([enzyme(parameters[\"endo\"], \"\")], [1], [1])\n",
    "    guess, _ = simulate_proteolysis(\n",
    "        protein,\n",
    "        parameter_enzyme,\n",
    "        n_start=1,\n",
    "        n_generate=n_generate,\n",
    "        endo_or_exo_probability=[1 - parameters[\"exo\"], parameters[\"exo\"]],\n",
    "        verbose=False,\n",
    "    )\n",
    "    return guess"
   ]
  },
  {
   "cell_type": "code",
   "execution_count": 12,
   "metadata": {},
   "outputs": [
    {
     "name": "stdout",
     "output_type": "stream",
     "text": [
      "Iteration: 0\n",
      "\tV: 12.50 | 9.38\n",
      "\tI: 11.98 | 9.38\n",
      "\tL: 11.41 | 9.38\n",
      "\tE: 12.87 | 9.38\n",
      "\tQ: 13.59 | 9.38\n",
      "\tD: 13.99 | 9.38\n",
      "\tN: 11.77 | 9.38\n",
      "\tH: 13.54 | 9.38\n",
      "\tW: 10.77 | 9.38\n",
      "\tF: 11.43 | 9.38\n",
      "\tY: 11.13 | 9.38\n",
      "\tR: 13.60 | 9.38\n",
      "\tK: 6.91 | 9.38\n",
      "K!!!\n",
      "\tK: 8.12 | 6.91\n",
      "\tS: 13.94 | 6.91\n",
      "\tT: 12.08 | 6.91\n",
      "\tM: 9.82 | 6.91\n",
      "\tA: 10.78 | 6.91\n",
      "\tG: 12.63 | 6.91\n",
      "\tP: 13.84 | 6.91\n",
      "\tC: 14.01 | 6.91\n",
      " exo: 8.35 | 6.91\n",
      "Iteration: 1\n",
      "\tV: 10.03 | 6.91\n",
      "\tI: 11.43 | 6.91\n",
      "\tL: 13.23 | 6.91\n",
      "\tE: 11.79 | 6.91\n",
      "\tQ: 11.32 | 6.91\n",
      "\tD: 8.57 | 6.91\n",
      "\tN: 10.89 | 6.91\n",
      "\tH: 11.67 | 6.91\n",
      "\tW: 7.56 | 6.91\n",
      "\tF: 11.32 | 6.91\n",
      "\tY: 9.03 | 6.91\n",
      "\tR: 11.97 | 6.91\n",
      "\tK: 6.23 | 6.91\n",
      "K!!!\n",
      "\tK: 7.75 | 6.23\n"
     ]
    },
    {
     "ename": "KeyboardInterrupt",
     "evalue": "",
     "output_type": "error",
     "traceback": [
      "\u001b[0;31m---------------------------------------------------------------------------\u001b[0m",
      "\u001b[0;31mKeyboardInterrupt\u001b[0m                         Traceback (most recent call last)",
      "Cell \u001b[0;32mIn[12], line 28\u001b[0m\n\u001b[1;32m     25\u001b[0m \u001b[38;5;28mprint\u001b[39m(\u001b[38;5;124mf\u001b[39m\u001b[38;5;124m\"\u001b[39m\u001b[38;5;124mIteration: \u001b[39m\u001b[38;5;132;01m{\u001b[39;00mi\u001b[38;5;132;01m}\u001b[39;00m\u001b[38;5;124m\"\u001b[39m)\n\u001b[1;32m     27\u001b[0m \u001b[38;5;28;01mfor\u001b[39;00m aa \u001b[38;5;129;01min\u001b[39;00m parameters[\u001b[38;5;124m\"\u001b[39m\u001b[38;5;124mendo\u001b[39m\u001b[38;5;124m\"\u001b[39m]\u001b[38;5;241m.\u001b[39mkeys():\n\u001b[0;32m---> 28\u001b[0m     parameters, new_loss \u001b[38;5;241m=\u001b[39m \u001b[43mupdate_parameter\u001b[49m\u001b[43m(\u001b[49m\u001b[43mparameters\u001b[49m\u001b[43m,\u001b[49m\u001b[43m \u001b[49m\u001b[43maa\u001b[49m\u001b[43m,\u001b[49m\u001b[43m \u001b[49m\u001b[43mlr_endo\u001b[49m\u001b[43m,\u001b[49m\u001b[43m \u001b[49m\u001b[43mverbose\u001b[49m\u001b[38;5;241;43m=\u001b[39;49m\u001b[38;5;28;43;01mTrue\u001b[39;49;00m\u001b[43m)\u001b[49m\n\u001b[1;32m     29\u001b[0m     \u001b[38;5;28;01mwhile\u001b[39;00m new_loss \u001b[38;5;241m<\u001b[39m loss_to_beat:\n\u001b[1;32m     30\u001b[0m         diff \u001b[38;5;241m=\u001b[39m loss_to_beat \u001b[38;5;241m-\u001b[39m new_loss\n",
      "Cell \u001b[0;32mIn[12], line 16\u001b[0m, in \u001b[0;36mupdate_parameter\u001b[0;34m(parameters, aa, e, verbose)\u001b[0m\n\u001b[1;32m     14\u001b[0m \u001b[38;5;28;01mdef\u001b[39;00m \u001b[38;5;21mupdate_parameter\u001b[39m(parameters, aa, e, verbose\u001b[38;5;241m=\u001b[39m\u001b[38;5;28;01mFalse\u001b[39;00m):\n\u001b[1;32m     15\u001b[0m     parameters[\u001b[38;5;124m\"\u001b[39m\u001b[38;5;124mendo\u001b[39m\u001b[38;5;124m\"\u001b[39m][aa] \u001b[38;5;241m+\u001b[39m\u001b[38;5;241m=\u001b[39m e\n\u001b[0;32m---> 16\u001b[0m     new_guess \u001b[38;5;241m=\u001b[39m \u001b[43mgenerate_guess\u001b[49m\u001b[43m(\u001b[49m\u001b[43mparameters\u001b[49m\u001b[43m,\u001b[49m\u001b[43m \u001b[49m\u001b[43mprotein\u001b[49m\u001b[43m)\u001b[49m\n\u001b[1;32m     17\u001b[0m     p, q \u001b[38;5;241m=\u001b[39m compare(true_dict, new_guess)\n\u001b[1;32m     18\u001b[0m     new_loss \u001b[38;5;241m=\u001b[39m KL(p, q)\n",
      "Cell \u001b[0;32mIn[7], line 11\u001b[0m, in \u001b[0;36mgenerate_guess\u001b[0;34m(parameters, protein)\u001b[0m\n\u001b[1;32m      9\u001b[0m parameters[\u001b[38;5;124m\"\u001b[39m\u001b[38;5;124mendo\u001b[39m\u001b[38;5;124m\"\u001b[39m] \u001b[38;5;241m=\u001b[39m normalize_dict(parameters[\u001b[38;5;124m\"\u001b[39m\u001b[38;5;124mendo\u001b[39m\u001b[38;5;124m\"\u001b[39m])\n\u001b[1;32m     10\u001b[0m parameter_enzyme \u001b[38;5;241m=\u001b[39m enzyme_set([enzyme(parameters[\u001b[38;5;124m\"\u001b[39m\u001b[38;5;124mendo\u001b[39m\u001b[38;5;124m\"\u001b[39m], \u001b[38;5;124m\"\u001b[39m\u001b[38;5;124m\"\u001b[39m)], [\u001b[38;5;241m1\u001b[39m], [\u001b[38;5;241m1\u001b[39m])\n\u001b[0;32m---> 11\u001b[0m guess, _ \u001b[38;5;241m=\u001b[39m \u001b[43msimulate_proteolysis\u001b[49m\u001b[43m(\u001b[49m\n\u001b[1;32m     12\u001b[0m \u001b[43m    \u001b[49m\u001b[43mprotein\u001b[49m\u001b[43m,\u001b[49m\n\u001b[1;32m     13\u001b[0m \u001b[43m    \u001b[49m\u001b[43mparameter_enzyme\u001b[49m\u001b[43m,\u001b[49m\n\u001b[1;32m     14\u001b[0m \u001b[43m    \u001b[49m\u001b[43mn_start\u001b[49m\u001b[38;5;241;43m=\u001b[39;49m\u001b[38;5;241;43m1\u001b[39;49m\u001b[43m,\u001b[49m\n\u001b[1;32m     15\u001b[0m \u001b[43m    \u001b[49m\u001b[43mn_generate\u001b[49m\u001b[38;5;241;43m=\u001b[39;49m\u001b[43mn_generate\u001b[49m\u001b[43m,\u001b[49m\n\u001b[1;32m     16\u001b[0m \u001b[43m    \u001b[49m\u001b[43mendo_or_exo_probability\u001b[49m\u001b[38;5;241;43m=\u001b[39;49m\u001b[43m[\u001b[49m\u001b[38;5;241;43m1\u001b[39;49m\u001b[43m \u001b[49m\u001b[38;5;241;43m-\u001b[39;49m\u001b[43m \u001b[49m\u001b[43mparameters\u001b[49m\u001b[43m[\u001b[49m\u001b[38;5;124;43m\"\u001b[39;49m\u001b[38;5;124;43mexo\u001b[39;49m\u001b[38;5;124;43m\"\u001b[39;49m\u001b[43m]\u001b[49m\u001b[43m,\u001b[49m\u001b[43m \u001b[49m\u001b[43mparameters\u001b[49m\u001b[43m[\u001b[49m\u001b[38;5;124;43m\"\u001b[39;49m\u001b[38;5;124;43mexo\u001b[39;49m\u001b[38;5;124;43m\"\u001b[39;49m\u001b[43m]\u001b[49m\u001b[43m]\u001b[49m\u001b[43m,\u001b[49m\n\u001b[1;32m     17\u001b[0m \u001b[43m    \u001b[49m\u001b[43mverbose\u001b[49m\u001b[38;5;241;43m=\u001b[39;49m\u001b[38;5;28;43;01mFalse\u001b[39;49;00m\u001b[43m,\u001b[49m\n\u001b[1;32m     18\u001b[0m \u001b[43m\u001b[49m\u001b[43m)\u001b[49m\n\u001b[1;32m     19\u001b[0m \u001b[38;5;28;01mreturn\u001b[39;00m guess\n",
      "File \u001b[0;32m~/dev/disassembly/src/disassembly/simulate_proteolysis.py:191\u001b[0m, in \u001b[0;36msimulate_proteolysis\u001b[0;34m(starting_sequence, enzymes, n_start, n_generate, endo_or_exo_probability, verbose)\u001b[0m\n\u001b[1;32m    183\u001b[0m cutting_index2 \u001b[38;5;241m=\u001b[39m random\u001b[38;5;241m.\u001b[39mchoices(\n\u001b[1;32m    184\u001b[0m     \u001b[38;5;28mlist\u001b[39m(index_to_cut\u001b[38;5;241m.\u001b[39mkeys()),\n\u001b[1;32m    185\u001b[0m     weights\u001b[38;5;241m=\u001b[39m[p \u001b[38;5;241m/\u001b[39m \u001b[38;5;28msum\u001b[39m(index_to_cut\u001b[38;5;241m.\u001b[39mvalues()) \u001b[38;5;28;01mfor\u001b[39;00m p \u001b[38;5;129;01min\u001b[39;00m index_to_cut\u001b[38;5;241m.\u001b[39mvalues()],\n\u001b[1;32m    186\u001b[0m )[\u001b[38;5;241m0\u001b[39m]\n\u001b[1;32m    188\u001b[0m left \u001b[38;5;241m=\u001b[39m sequence_to_cut[: \u001b[38;5;28mmin\u001b[39m(cutting_index1, cutting_index2) \u001b[38;5;241m+\u001b[39m \u001b[38;5;241m1\u001b[39m]\n\u001b[1;32m    189\u001b[0m middle \u001b[38;5;241m=\u001b[39m sequence_to_cut[\n\u001b[1;32m    190\u001b[0m     \u001b[38;5;28mmin\u001b[39m(cutting_index1, cutting_index2)\n\u001b[0;32m--> 191\u001b[0m     \u001b[38;5;241m+\u001b[39m \u001b[38;5;241m1\u001b[39m : \u001b[38;5;28mmax\u001b[39m(cutting_index1, cutting_index2)\n\u001b[1;32m    192\u001b[0m ]\n\u001b[1;32m    193\u001b[0m right \u001b[38;5;241m=\u001b[39m sequence_to_cut[\n\u001b[1;32m    194\u001b[0m     \u001b[38;5;28mmin\u001b[39m(cutting_index1, cutting_index2) \u001b[38;5;241m+\u001b[39m \u001b[38;5;28mlen\u001b[39m(middle) \u001b[38;5;241m+\u001b[39m \u001b[38;5;241m1\u001b[39m :\n\u001b[1;32m    195\u001b[0m ]\n\u001b[1;32m    197\u001b[0m \u001b[38;5;66;03m# Check if accept others\u001b[39;00m\n",
      "File \u001b[0;32m~/dev/disassembly/src/disassembly/simulate_proteolysis.py:191\u001b[0m, in \u001b[0;36m<listcomp>\u001b[0;34m(.0)\u001b[0m\n\u001b[1;32m    183\u001b[0m cutting_index2 \u001b[38;5;241m=\u001b[39m random\u001b[38;5;241m.\u001b[39mchoices(\n\u001b[1;32m    184\u001b[0m     \u001b[38;5;28mlist\u001b[39m(index_to_cut\u001b[38;5;241m.\u001b[39mkeys()),\n\u001b[1;32m    185\u001b[0m     weights\u001b[38;5;241m=\u001b[39m[p \u001b[38;5;241m/\u001b[39m \u001b[38;5;28msum\u001b[39m(index_to_cut\u001b[38;5;241m.\u001b[39mvalues()) \u001b[38;5;28;01mfor\u001b[39;00m p \u001b[38;5;129;01min\u001b[39;00m index_to_cut\u001b[38;5;241m.\u001b[39mvalues()],\n\u001b[1;32m    186\u001b[0m )[\u001b[38;5;241m0\u001b[39m]\n\u001b[1;32m    188\u001b[0m left \u001b[38;5;241m=\u001b[39m sequence_to_cut[: \u001b[38;5;28mmin\u001b[39m(cutting_index1, cutting_index2) \u001b[38;5;241m+\u001b[39m \u001b[38;5;241m1\u001b[39m]\n\u001b[1;32m    189\u001b[0m middle \u001b[38;5;241m=\u001b[39m sequence_to_cut[\n\u001b[1;32m    190\u001b[0m     \u001b[38;5;28mmin\u001b[39m(cutting_index1, cutting_index2)\n\u001b[0;32m--> 191\u001b[0m     \u001b[38;5;241m+\u001b[39m \u001b[38;5;241m1\u001b[39m : \u001b[38;5;28mmax\u001b[39m(cutting_index1, cutting_index2)\n\u001b[1;32m    192\u001b[0m ]\n\u001b[1;32m    193\u001b[0m right \u001b[38;5;241m=\u001b[39m sequence_to_cut[\n\u001b[1;32m    194\u001b[0m     \u001b[38;5;28mmin\u001b[39m(cutting_index1, cutting_index2) \u001b[38;5;241m+\u001b[39m \u001b[38;5;28mlen\u001b[39m(middle) \u001b[38;5;241m+\u001b[39m \u001b[38;5;241m1\u001b[39m :\n\u001b[1;32m    195\u001b[0m ]\n\u001b[1;32m    197\u001b[0m \u001b[38;5;66;03m# Check if accept others\u001b[39;00m\n",
      "\u001b[0;31mKeyboardInterrupt\u001b[0m: "
     ]
    }
   ],
   "source": [
    "import random\n",
    "\n",
    "lr_endo = 0.5\n",
    "lr_exo = 0.05\n",
    "\n",
    "best_losses = []\n",
    "all_losses = []\n",
    "\n",
    "starting_guess = generate_guess(parameters, protein)\n",
    "p,q = compare(true_dict, starting_guess)\n",
    "\n",
    "loss_to_beat = KL(p, q) # loss for current set of parameters\n",
    "\n",
    "def update_parameter(parameters, aa, e, verbose=False):\n",
    "    parameters[\"endo\"][aa] += e\n",
    "    new_guess = generate_guess(parameters, protein)\n",
    "    p, q = compare(true_dict, new_guess)\n",
    "    new_loss = KL(p, q)\n",
    "    if verbose:\n",
    "        print(f\"\\t{aa}: {new_loss:.2f} | {loss_to_beat:.2f}\")\n",
    "    return parameters, new_loss\n",
    "\n",
    "\n",
    "for i in range(5):\n",
    "    print(f\"Iteration: {i}\")\n",
    "\n",
    "    for aa in parameters[\"endo\"].keys():\n",
    "        new_guess = generate_guess(parameters, protein)\n",
    "        p, q = compare(true_dict, new_guess)\n",
    "        new_loss = KL(p, q)\n",
    "        while new_loss < loss_to_beat:\n",
    "            diff = loss_to_beat - new_loss\n",
    "            print(f\"{aa}!!!\")\n",
    "            loss_to_beat = new_loss\n",
    "            best_losses.append(new_loss)\n",
    "            parameters, new_loss = update_parameter(parameters, aa, lr_endo*diff, verbose=True)\n",
    "    \n",
    "\n",
    "            \n",
    "    exo_diff = (lr_exo * random.choice([-1,1]))\n",
    "    parameters[\"exo\"] = parameters[\"exo\"] + exo_diff\n",
    "    new_guess = generate_guess(parameters, protein)\n",
    "    p, q = compare(true_dict, new_guess)\n",
    "    new_loss = KL(p, q)\n",
    "    all_losses.append(new_loss)\n",
    "    if new_loss > loss_to_beat:\n",
    "        parameters[\"exo\"] -= exo_diff\n",
    "    else:\n",
    "        loss_to_beat = new_loss\n",
    "        best_losses.append(new_loss)\n",
    "\n",
    "    print(f\" exo: {new_loss:.2f} | {loss_to_beat:.2f}\")\n",
    "\n"
   ]
  },
  {
   "cell_type": "code",
   "execution_count": 13,
   "metadata": {},
   "outputs": [
    {
     "data": {
      "text/plain": [
       "<BarContainer object of 20 artists>"
      ]
     },
     "execution_count": 13,
     "metadata": {},
     "output_type": "execute_result"
    },
    {
     "data": {
      "image/png": "[encoded data removed]",
      "text/plain": [
       "<Figure size 640x480 with 1 Axes>"
      ]
     },
     "metadata": {},
     "output_type": "display_data"
    }
   ],
   "source": [
    "import matplotlib.pyplot as plt\n",
    "\n",
    "plt.bar(parameters[\"endo\"].keys(), parameters[\"endo\"].values())"
   ]
  }
 ],
 "metadata": {
  "kernelspec": {
   "display_name": ".venv",
   "language": "python",
   "name": "python3"
  },
  "language_info": {
   "codemirror_mode": {
    "name": "ipython",
    "version": 3
   },
   "file_extension": ".py",
   "mimetype": "text/x-python",
   "name": "python",
   "nbconvert_exporter": "python",
   "pygments_lexer": "ipython3",
   "version": "3.9.6"
  }
 },
 "nbformat": 4,
 "nbformat_minor": 2
}
